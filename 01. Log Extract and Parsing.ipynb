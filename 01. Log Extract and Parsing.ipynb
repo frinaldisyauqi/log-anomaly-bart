{
 "cells": [
  {
   "cell_type": "markdown",
   "id": "d8b5889b-edad-4d50-bfbd-07ecddf89c17",
   "metadata": {},
   "source": [
    "## Import Library"
   ]
  },
  {
   "cell_type": "code",
   "execution_count": 1,
   "id": "025873f8-8d5c-4d9c-a8b3-77afbde206e7",
   "metadata": {},
   "outputs": [],
   "source": [
    "import tarfile\n",
    "import os\n",
    "import gzip\n",
    "import shutil\n",
    "import numpy as np\n",
    "import pandas as pd\n",
    "import json\n",
    "import re\n",
    "from collections import defaultdict\n",
    "from tqdm import tqdm\n",
    "from logparser import Spell, Drain, Drain_bgl\n",
    "from timeit import default_timer as timer"
   ]
  },
  {
   "cell_type": "markdown",
   "id": "0a7f85a8-21be-4d43-8d12-3a128ca5f0c7",
   "metadata": {},
   "source": [
    "## Extract Log File"
   ]
  },
  {
   "cell_type": "code",
   "execution_count": 2,
   "id": "713d75dd-6b97-4328-aed9-258764f38373",
   "metadata": {},
   "outputs": [],
   "source": [
    "#Dataset Tar File\n",
    "hdfs_file = \"datasets/HDFS_1.tar.gz\"\n",
    "bgl_file = \"datasets/BGL.tar.gz\"\n",
    "tbird_file = \"datasets/tbird2.gz\""
   ]
  },
  {
   "cell_type": "code",
   "execution_count": 3,
   "id": "6926bdfb-00d6-43a5-b36e-bbcd74b20fc6",
   "metadata": {},
   "outputs": [],
   "source": [
    "#Make Output Directory\n",
    "_path = {\"hdfs\":\"datasets/hdfs/\", \"tbird\":\"datasets/tbird/\", \"bgl\":\"datasets/bgl/\"}\n",
    "\n",
    "for key, path in _path.items() :\n",
    "  try:\n",
    "      os.mkdir(path)\n",
    "  except OSError as error:\n",
    "      pass"
   ]
  },
  {
   "cell_type": "code",
   "execution_count": 4,
   "id": "74f47e7d-4c87-4afb-bd0a-e69f99c62b51",
   "metadata": {},
   "outputs": [
    {
     "name": "stdout",
     "output_type": "stream",
     "text": [
      "Already Extracted\n",
      "time elapsed : 0.00s\n"
     ]
    }
   ],
   "source": [
    "#Extract HDFS LogFile\n",
    "start = timer()\n",
    "if os.path.exists(\"datasets/hdfs/HDFS.log\") == False:\n",
    "    print(\"Extracting...\")\n",
    "    with tarfile.open(hdfs_file, 'r') as tar_ref:\n",
    "        tar_ref.extractall(_path[\"hdfs\"])\n",
    "else : print(\"Already Extracted\")\n",
    "end = timer()\n",
    "print(\"time elapsed : {:.2f}s\".format(end-start)) "
   ]
  },
  {
   "cell_type": "code",
   "execution_count": 5,
   "id": "422f08b8-8d14-4392-9e71-aa5e4b4c00ed",
   "metadata": {},
   "outputs": [
    {
     "name": "stdout",
     "output_type": "stream",
     "text": [
      "Already Extracted\n",
      "time elapsed : 0.00s\n"
     ]
    }
   ],
   "source": [
    "#Extract bgl LogFile\n",
    "start = timer()\n",
    "if os.path.exists(\"datasets/hdfs/HDFS.log\") == False:\n",
    "    print(\"Extracting...\")\n",
    "    with tarfile.open(bgl_file, 'r') as tar_ref:\n",
    "        tar_ref.extractall(_path[\"bgl\"])\n",
    "else : print(\"Already Extracted\")\n",
    "end = timer()\n",
    "print(\"time elapsed : {:.2f}s\".format(end-start)) "
   ]
  },
  {
   "cell_type": "code",
   "execution_count": 6,
   "id": "5e4e604c-6697-414e-87ab-89355bb77b8c",
   "metadata": {},
   "outputs": [
    {
     "name": "stdout",
     "output_type": "stream",
     "text": [
      "Already Extracted\n",
      "time elapsed : 0.00s\n"
     ]
    }
   ],
   "source": [
    "#Extract tbird LogFile\n",
    "start = timer()\n",
    "if os.path.exists(\"datasets/hdfs/HDFS.log\") == False:\n",
    "    print(\"Extracting...\")\n",
    "    with gzip.open(tbird_file, 'rb') as f_in:\n",
    "        with open(_path[\"tbird\"] + 'tbird.log', 'wb') as f_out:\n",
    "            shutil.copyfileobj(f_in, f_out)\n",
    "else : print(\"Already Extracted\")\n",
    "end = timer()\n",
    "print(\"time elapsed : {:.2f}s\".format(end-start)) "
   ]
  },
  {
   "cell_type": "markdown",
   "id": "f4586e0a-69b1-4463-b1ac-31b0398784c7",
   "metadata": {},
   "source": [
    "## Parse Log File"
   ]
  },
  {
   "cell_type": "markdown",
   "id": "20f4bace-6a46-4272-8b32-74344b421398",
   "metadata": {
    "jp-MarkdownHeadingCollapsed": true
   },
   "source": [
    "#### Helper Function"
   ]
  },
  {
   "cell_type": "code",
   "execution_count": 4,
   "id": "168ee9fe-c348-4cc3-a75d-805e2fafbbb4",
   "metadata": {},
   "outputs": [],
   "source": [
    "def sliding_window(raw_data, para):\n",
    "    \"\"\"\n",
    "    split logs into sliding windows/session\n",
    "    :param raw_data: dataframe columns=[timestamp, label, eventid, time duration]\n",
    "    :param para:{window_size: seconds, step_size: seconds}\n",
    "    :return: dataframe columns=[eventids, time durations, label]\n",
    "    \"\"\"\n",
    "    log_size = raw_data.shape[0]\n",
    "    label_data, time_data = raw_data.iloc[:, 1], raw_data.iloc[:, 0]\n",
    "    logkey_data, deltaT_data = raw_data.iloc[:, 2], raw_data.iloc[:, 3]\n",
    "    new_data = []\n",
    "    start_end_index_pair = set()\n",
    "\n",
    "    start_time = time_data[0]\n",
    "    end_time = start_time + para[\"window_size\"]\n",
    "    start_index = 0\n",
    "    end_index = 0\n",
    "\n",
    "    # get the first start, end index, end time\n",
    "    for cur_time in time_data:\n",
    "        if cur_time < end_time:\n",
    "            end_index += 1\n",
    "        else:\n",
    "            break\n",
    "\n",
    "    start_end_index_pair.add(tuple([start_index, end_index]))\n",
    "\n",
    "    # move the start and end index until next sliding window\n",
    "    num_session = 1\n",
    "    while end_index < log_size:\n",
    "        start_time = start_time + para['step_size']\n",
    "        end_time = start_time + para[\"window_size\"]\n",
    "        for i in range(start_index, log_size):\n",
    "            if time_data[i] < start_time:\n",
    "                i += 1\n",
    "            else:\n",
    "                break\n",
    "        for j in range(end_index, log_size):\n",
    "            if time_data[j] < end_time:\n",
    "                j += 1\n",
    "            else:\n",
    "                break\n",
    "        start_index = i\n",
    "        end_index = j\n",
    "\n",
    "        # when start_index == end_index, there is no value in the window\n",
    "        if start_index != end_index:\n",
    "            start_end_index_pair.add(tuple([start_index, end_index]))\n",
    "\n",
    "        num_session += 1\n",
    "        if num_session % 1000 == 0:\n",
    "            print(\"process {} time window\".format(num_session), end='\\r')\n",
    "\n",
    "    for (start_index, end_index) in start_end_index_pair:\n",
    "        dt = deltaT_data[start_index: end_index].values\n",
    "        dt[0] = 0\n",
    "        new_data.append([\n",
    "            time_data[start_index: end_index].values,\n",
    "            max(label_data[start_index:end_index]),\n",
    "            logkey_data[start_index: end_index].values,\n",
    "            dt\n",
    "        ])\n",
    "\n",
    "    assert len(start_end_index_pair) == len(new_data)\n",
    "    print('there are %d instances (sliding windows) in this dataset\\n' % len(start_end_index_pair))\n",
    "    return pd.DataFrame(new_data, columns=raw_data.columns)"
   ]
  },
  {
   "cell_type": "markdown",
   "id": "31ef2d9b-eff7-4b46-9723-a7dc823fde94",
   "metadata": {
    "jp-MarkdownHeadingCollapsed": true
   },
   "source": [
    "### - HDFS"
   ]
  },
  {
   "cell_type": "code",
   "execution_count": 7,
   "id": "f9ea02a1-4d76-4c2e-8c78-63d87b8b1417",
   "metadata": {},
   "outputs": [],
   "source": [
    "#PATH\n",
    "log_format = '<Date> <Time> <Pid> <Level> <Component>: <Content>' #HDFS Log Format\n",
    "input_dir  = _path[\"hdfs\"]\n",
    "output_dir = _path[\"hdfs\"] + 'output/'\n",
    "log_file   = \"HDFS.log\"\n",
    "log_structured_file = output_dir + log_file + \"_structured.csv\"\n",
    "log_templates_file = output_dir + log_file + \"_templates.csv\"\n",
    "log_sequence_file = output_dir + \"hdfs_sequence.csv\"\n",
    "log_content_file = output_dir + \"hdfs_content.csv\"\n",
    "log_results_file = output_dir + \"hdfs_labeled.csv\"\n",
    "log_results_content_file = output_dir + \"hdfs_content_labeled.csv\"\n",
    "logkey_content_file = output_dir + \"hdfs_content_logkey.csv\""
   ]
  },
  {
   "cell_type": "code",
   "execution_count": 9,
   "id": "1f5e706b-7b3c-4be0-8d43-084928439cc7",
   "metadata": {},
   "outputs": [],
   "source": [
    "def parser(input_dir, output_dir, log_file, log_format):\n",
    "  regex = [\n",
    "      r\"(?<=blk_)[-\\d]+\", #Regex for block_id\n",
    "      r'\\d+\\.\\d+\\.\\d+\\.\\d+',  #Regex for  IP\n",
    "      r\"(/[-\\w]+)+\",  #Regex for file path\n",
    "      #r'(?<=[^A-Za-z0-9])(\\-?\\+?\\d+)(?=[^A-Za-z0-9])|[0-9]+$',  # Numbers\n",
    "  ]\n",
    "  # hyper parameter di set berdasarkan  http://jmzhu.logpai.com/pub/pjhe_icws2017.pdf\n",
    "  st = 0.5  # Similarity threshold\n",
    "  depth = 5  # Depth of all leaf nodes\n",
    "\n",
    "  parser = Drain.LogParser(log_format, indir=input_dir, outdir=output_dir, depth=depth, st=st, rex=regex, keep_para=False)\n",
    "  parser.parse(log_file)"
   ]
  },
  {
   "cell_type": "code",
   "execution_count": 10,
   "id": "381b4e4f-7911-4358-b64c-b5fc10d84b06",
   "metadata": {},
   "outputs": [
    {
     "name": "stdout",
     "output_type": "stream",
     "text": [
      "Parsing file: datasets/hdfs/HDFS.log\n",
      "Total size after encoding is 11175629 11175629\n",
      "Parsing done. [Time taken: 0:17:30.011664]\n"
     ]
    }
   ],
   "source": [
    "parser(input_dir, output_dir, log_file, log_format)"
   ]
  },
  {
   "cell_type": "code",
   "execution_count": 11,
   "id": "5675c186-d2ce-4260-8a65-15a032eb5b8e",
   "metadata": {},
   "outputs": [],
   "source": [
    "def mapping():\n",
    "    log_temp = pd.read_csv(log_templates_file)\n",
    "    log_temp.sort_values(by = [\"Occurrences\"], ascending=False, inplace=True)\n",
    "    log_temp_dict = {event: idx+1 for idx , event in enumerate(list(log_temp[\"EventId\"])) }\n",
    "    print(log_temp_dict)\n",
    "    with open (output_dir + \"hdfs_log_templates.json\", \"w\") as f:\n",
    "        json.dump(log_temp_dict, f)"
   ]
  },
  {
   "cell_type": "code",
   "execution_count": 12,
   "id": "a541abfa-1e8a-4110-9ca3-0e82c4ac5e39",
   "metadata": {},
   "outputs": [
    {
     "name": "stdout",
     "output_type": "stream",
     "text": [
      "{'9b7aa7a3': 1, '2f313c72': 2, '2e1cf0aa': 3, '797b9c47': 4, 'b0023896': 5, 'bb837bbd': 6, '81358cb3': 7, '6caae5bd': 8, 'be6f070c': 9, 'd23206c6': 10, 'fa05ffa7': 11, '53c00e5f': 12, 'd7507d1e': 13, '0d168c98': 14, 'cf9b33dc': 15, 'd6115493': 16, '46f6e99a': 17, 'b46e298a': 18, 'fac2c191': 19, '4ed2a0c0': 20, '5e47c5c3': 21, '1995da3b': 22, '1d48c538': 23, 'b3ef6470': 24, 'ceedf750': 25, 'caed8b80': 26, '6f83a284': 27, '5832ad42': 28, 'c859931b': 29, '5ac8245b': 30, '190eb501': 31, 'f8ba9329': 32, '47b367ea': 33, '1ff93be5': 34, '72988c9b': 35, '78ad37b3': 36, 'ffa3fe68': 37, '60600882': 38, 'b55f27b2': 39, '9111794a': 40, 'ebe1d2fb': 41, 'a26fadbc': 42, 'f52097f4': 43, '0d527039': 44, '17ee882d': 45, 'fb314c6d': 46, '0555f7e9': 47}\n"
     ]
    }
   ],
   "source": [
    "mapping()"
   ]
  },
  {
   "cell_type": "code",
   "execution_count": 13,
   "id": "b3b9e8fe-6364-4618-9f4a-6d6188f5725d",
   "metadata": {},
   "outputs": [],
   "source": [
    "def hdfs_content_append(log_file, window='session'):\n",
    "    assert window == 'session', \"Only window=session is supported for HDFS dataset.\"\n",
    "    print(\"Loading\", log_file)\n",
    "    df = pd.read_csv(log_file, engine='c',\n",
    "            na_filter=False, memory_map=True, dtype={'Date':object, \"Time\": object})\n",
    "\n",
    "    with open(output_dir + \"hdfs_log_templates.json\", \"r\") as f:\n",
    "        event_num = json.load(f)\n",
    "    df[\"EventId\"] = df[\"EventId\"].apply(lambda x: event_num.get(x, -1))\n",
    "\n",
    "    data_dict = defaultdict(list)\n",
    "    for idx, row in tqdm(df.iterrows()):\n",
    "        blkId_list = re.findall(r'(blk_-?\\d+)', row['Content'])\n",
    "        blkId_set = set(blkId_list)\n",
    "        for blk_Id in blkId_set:\n",
    "            data_dict[blk_Id].append(row[\"EventTemplate\"])\n",
    "\n",
    "    data_df = pd.DataFrame(list(data_dict.items()), columns=['BlockId', 'ContentSequence'])\n",
    "    data_df.to_csv(log_content_file, index=None)\n",
    "    print(\"hdfs sampling done\")"
   ]
  },
  {
   "cell_type": "code",
   "execution_count": 14,
   "id": "96506ec8-fb66-4f92-bc7e-04b50547748a",
   "metadata": {},
   "outputs": [
    {
     "name": "stdout",
     "output_type": "stream",
     "text": [
      "Loading datasets/hdfs/output/HDFS.log_structured.csv\n"
     ]
    },
    {
     "name": "stderr",
     "output_type": "stream",
     "text": [
      "11175629it [08:58, 20770.41it/s]\n"
     ]
    },
    {
     "name": "stdout",
     "output_type": "stream",
     "text": [
      "hdfs sampling done\n"
     ]
    }
   ],
   "source": [
    "hdfs_content_append(log_structured_file)"
   ]
  },
  {
   "cell_type": "code",
   "execution_count": 15,
   "id": "e39497cf-bf3b-4fb3-b972-4d68fa9d9af6",
   "metadata": {},
   "outputs": [],
   "source": [
    "def hdfs_sequencing(log_file, window='session'):\n",
    "    assert window == 'session', \"Only window=session is supported for HDFS dataset.\"\n",
    "    print(\"Loading\", log_file)\n",
    "    df = pd.read_csv(log_file, engine='c',\n",
    "            na_filter=False, memory_map=True, dtype={'Date':object, \"Time\": object})\n",
    "\n",
    "    # with open(output_dir + \"hdfs_log_templates.json\", \"r\") as f:\n",
    "    #     event_num = json.load(f)\n",
    "    # df[\"EventId\"] = df[\"EventId\"].apply(lambda x: event_num.get(x, -1))\n",
    "\n",
    "    data_dict = defaultdict(list)\n",
    "    for idx, row in tqdm(df.iterrows()):\n",
    "        blkId_list = re.findall(r'(blk_-?\\d+)', row['Content'])\n",
    "        blkId_set = set(blkId_list)\n",
    "        for blk_Id in blkId_set:\n",
    "            data_dict[blk_Id].append(row[\"EventId\"])\n",
    "\n",
    "    data_df = pd.DataFrame(list(data_dict.items()), columns=['BlockId', 'EventSequence'])\n",
    "    data_df.to_csv(log_sequence_file, index=None)\n",
    "    print(\"hdfs sampling done\")"
   ]
  },
  {
   "cell_type": "code",
   "execution_count": 16,
   "id": "27b08daf-0b2f-46b2-8766-8d073ee345c9",
   "metadata": {},
   "outputs": [
    {
     "name": "stdout",
     "output_type": "stream",
     "text": [
      "Loading datasets/hdfs/output/HDFS.log_structured.csv\n"
     ]
    },
    {
     "name": "stderr",
     "output_type": "stream",
     "text": [
      "11175629it [08:59, 20707.33it/s]\n"
     ]
    },
    {
     "name": "stdout",
     "output_type": "stream",
     "text": [
      "hdfs sampling done\n"
     ]
    }
   ],
   "source": [
    "hdfs_sequencing(log_structured_file)"
   ]
  },
  {
   "cell_type": "code",
   "execution_count": 23,
   "id": "c13920cb-e237-43d7-b0b1-67faa75733b7",
   "metadata": {},
   "outputs": [],
   "source": [
    "def generate_dataset(hdfs_sequence_file, results=log_results_file):\n",
    "    blk_label_dict = {}\n",
    "    blk_label_file = os.path.join(input_dir, \"anomaly_label.csv\")\n",
    "    blk_df = pd.read_csv(blk_label_file)\n",
    "    for _ , row in tqdm(blk_df.iterrows()):\n",
    "        # blk_label_dict[row[\"BlockId\"]] = row[\"Label\"]\n",
    "        blk_label_dict[row[\"BlockId\"]] = 1 if row[\"Label\"] == \"Anomaly\" else 0\n",
    "\n",
    "    seq = pd.read_csv(hdfs_sequence_file)\n",
    "    seq[\"Label\"] = seq[\"BlockId\"].apply(lambda x: blk_label_dict.get(x)) #Tambah label ke tiap sequence dari tiap blockid\n",
    "    seq.to_csv(results, index=None)"
   ]
  },
  {
   "cell_type": "code",
   "execution_count": 18,
   "id": "f4dd8298-76f0-41b4-adf4-25dd5ae37ad8",
   "metadata": {},
   "outputs": [
    {
     "name": "stderr",
     "output_type": "stream",
     "text": [
      "575061it [00:33, 17311.37it/s]\n"
     ]
    }
   ],
   "source": [
    "generate_dataset(log_sequence_file)"
   ]
  },
  {
   "cell_type": "code",
   "execution_count": 24,
   "id": "b2b0056e-3895-4263-8e8e-8b801b8555aa",
   "metadata": {},
   "outputs": [
    {
     "name": "stderr",
     "output_type": "stream",
     "text": [
      "575061it [00:22, 25789.79it/s]\n"
     ]
    }
   ],
   "source": [
    "generate_dataset(log_content_file, log_results_content_file)"
   ]
  },
  {
   "cell_type": "code",
   "execution_count": 19,
   "id": "a99d090f-588b-4a1d-b874-81053edbb701",
   "metadata": {},
   "outputs": [
    {
     "data": {
      "text/html": [
       "<div>\n",
       "<style scoped>\n",
       "    .dataframe tbody tr th:only-of-type {\n",
       "        vertical-align: middle;\n",
       "    }\n",
       "\n",
       "    .dataframe tbody tr th {\n",
       "        vertical-align: top;\n",
       "    }\n",
       "\n",
       "    .dataframe thead th {\n",
       "        text-align: right;\n",
       "    }\n",
       "</style>\n",
       "<table border=\"1\" class=\"dataframe\">\n",
       "  <thead>\n",
       "    <tr style=\"text-align: right;\">\n",
       "      <th></th>\n",
       "      <th>BlockId</th>\n",
       "      <th>EventSequence</th>\n",
       "      <th>Label</th>\n",
       "    </tr>\n",
       "  </thead>\n",
       "  <tbody>\n",
       "    <tr>\n",
       "      <th>0</th>\n",
       "      <td>blk_-1608999687919862906</td>\n",
       "      <td>['9b7aa7a3', '81358cb3', '9b7aa7a3', '9b7aa7a3...</td>\n",
       "      <td>0</td>\n",
       "    </tr>\n",
       "    <tr>\n",
       "      <th>1</th>\n",
       "      <td>blk_7503483334202473044</td>\n",
       "      <td>['9b7aa7a3', '9b7aa7a3', '81358cb3', '9b7aa7a3...</td>\n",
       "      <td>0</td>\n",
       "    </tr>\n",
       "    <tr>\n",
       "      <th>2</th>\n",
       "      <td>blk_-3544583377289625738</td>\n",
       "      <td>['9b7aa7a3', '81358cb3', '9b7aa7a3', '9b7aa7a3...</td>\n",
       "      <td>1</td>\n",
       "    </tr>\n",
       "    <tr>\n",
       "      <th>3</th>\n",
       "      <td>blk_-9073992586687739851</td>\n",
       "      <td>['9b7aa7a3', '81358cb3', '9b7aa7a3', '9b7aa7a3...</td>\n",
       "      <td>0</td>\n",
       "    </tr>\n",
       "    <tr>\n",
       "      <th>4</th>\n",
       "      <td>blk_7854771516489510256</td>\n",
       "      <td>['9b7aa7a3', '9b7aa7a3', '81358cb3', '9b7aa7a3...</td>\n",
       "      <td>0</td>\n",
       "    </tr>\n",
       "  </tbody>\n",
       "</table>\n",
       "</div>"
      ],
      "text/plain": [
       "                    BlockId  \\\n",
       "0  blk_-1608999687919862906   \n",
       "1   blk_7503483334202473044   \n",
       "2  blk_-3544583377289625738   \n",
       "3  blk_-9073992586687739851   \n",
       "4   blk_7854771516489510256   \n",
       "\n",
       "                                       EventSequence  Label  \n",
       "0  ['9b7aa7a3', '81358cb3', '9b7aa7a3', '9b7aa7a3...      0  \n",
       "1  ['9b7aa7a3', '9b7aa7a3', '81358cb3', '9b7aa7a3...      0  \n",
       "2  ['9b7aa7a3', '81358cb3', '9b7aa7a3', '9b7aa7a3...      1  \n",
       "3  ['9b7aa7a3', '81358cb3', '9b7aa7a3', '9b7aa7a3...      0  \n",
       "4  ['9b7aa7a3', '9b7aa7a3', '81358cb3', '9b7aa7a3...      0  "
      ]
     },
     "execution_count": 19,
     "metadata": {},
     "output_type": "execute_result"
    }
   ],
   "source": [
    "df = pd.read_csv(log_results_file)\n",
    "df.head()"
   ]
  },
  {
   "cell_type": "code",
   "execution_count": 20,
   "id": "d5f02fe2-0641-4986-aa87-90ce23708fa9",
   "metadata": {},
   "outputs": [
    {
     "data": {
      "text/plain": [
       "Label\n",
       "0    558223\n",
       "1     16838\n",
       "Name: count, dtype: int64"
      ]
     },
     "execution_count": 20,
     "metadata": {},
     "output_type": "execute_result"
    }
   ],
   "source": [
    "df[\"Label\"].value_counts()"
   ]
  },
  {
   "cell_type": "code",
   "execution_count": 25,
   "id": "60e00585-180e-41a9-9154-87f3edbb8ee5",
   "metadata": {},
   "outputs": [
    {
     "data": {
      "text/html": [
       "<div>\n",
       "<style scoped>\n",
       "    .dataframe tbody tr th:only-of-type {\n",
       "        vertical-align: middle;\n",
       "    }\n",
       "\n",
       "    .dataframe tbody tr th {\n",
       "        vertical-align: top;\n",
       "    }\n",
       "\n",
       "    .dataframe thead th {\n",
       "        text-align: right;\n",
       "    }\n",
       "</style>\n",
       "<table border=\"1\" class=\"dataframe\">\n",
       "  <thead>\n",
       "    <tr style=\"text-align: right;\">\n",
       "      <th></th>\n",
       "      <th>BlockId</th>\n",
       "      <th>ContentSequence</th>\n",
       "      <th>Label</th>\n",
       "    </tr>\n",
       "  </thead>\n",
       "  <tbody>\n",
       "    <tr>\n",
       "      <th>0</th>\n",
       "      <td>blk_-1608999687919862906</td>\n",
       "      <td>['Receiving block blk_&lt;*&gt; src: &lt;*&gt; dest: /&lt;*&gt;:...</td>\n",
       "      <td>0</td>\n",
       "    </tr>\n",
       "    <tr>\n",
       "      <th>1</th>\n",
       "      <td>blk_7503483334202473044</td>\n",
       "      <td>['Receiving block blk_&lt;*&gt; src: &lt;*&gt; dest: /&lt;*&gt;:...</td>\n",
       "      <td>0</td>\n",
       "    </tr>\n",
       "    <tr>\n",
       "      <th>2</th>\n",
       "      <td>blk_-3544583377289625738</td>\n",
       "      <td>['Receiving block blk_&lt;*&gt; src: &lt;*&gt; dest: /&lt;*&gt;:...</td>\n",
       "      <td>1</td>\n",
       "    </tr>\n",
       "    <tr>\n",
       "      <th>3</th>\n",
       "      <td>blk_-9073992586687739851</td>\n",
       "      <td>['Receiving block blk_&lt;*&gt; src: &lt;*&gt; dest: /&lt;*&gt;:...</td>\n",
       "      <td>0</td>\n",
       "    </tr>\n",
       "    <tr>\n",
       "      <th>4</th>\n",
       "      <td>blk_7854771516489510256</td>\n",
       "      <td>['Receiving block blk_&lt;*&gt; src: &lt;*&gt; dest: /&lt;*&gt;:...</td>\n",
       "      <td>0</td>\n",
       "    </tr>\n",
       "  </tbody>\n",
       "</table>\n",
       "</div>"
      ],
      "text/plain": [
       "                    BlockId  \\\n",
       "0  blk_-1608999687919862906   \n",
       "1   blk_7503483334202473044   \n",
       "2  blk_-3544583377289625738   \n",
       "3  blk_-9073992586687739851   \n",
       "4   blk_7854771516489510256   \n",
       "\n",
       "                                     ContentSequence  Label  \n",
       "0  ['Receiving block blk_<*> src: <*> dest: /<*>:...      0  \n",
       "1  ['Receiving block blk_<*> src: <*> dest: /<*>:...      0  \n",
       "2  ['Receiving block blk_<*> src: <*> dest: /<*>:...      1  \n",
       "3  ['Receiving block blk_<*> src: <*> dest: /<*>:...      0  \n",
       "4  ['Receiving block blk_<*> src: <*> dest: /<*>:...      0  "
      ]
     },
     "execution_count": 25,
     "metadata": {},
     "output_type": "execute_result"
    }
   ],
   "source": [
    "df = pd.read_csv(log_results_content_file)\n",
    "df.head()"
   ]
  },
  {
   "cell_type": "code",
   "execution_count": 26,
   "id": "7f0de199-dfc3-446d-a428-a9e4b5b9c484",
   "metadata": {},
   "outputs": [
    {
     "data": {
      "text/plain": [
       "Label\n",
       "0    558223\n",
       "1     16838\n",
       "Name: count, dtype: int64"
      ]
     },
     "execution_count": 26,
     "metadata": {},
     "output_type": "execute_result"
    }
   ],
   "source": [
    "df[\"Label\"].value_counts()"
   ]
  },
  {
   "cell_type": "code",
   "execution_count": 33,
   "id": "035ac062-7f95-442b-a2f3-200b4bcc50c8",
   "metadata": {},
   "outputs": [],
   "source": [
    "df_logkey = pd.read_csv(log_results_file)"
   ]
  },
  {
   "cell_type": "code",
   "execution_count": 34,
   "id": "1097b190-ab24-42d3-a3a9-835b65a8e974",
   "metadata": {},
   "outputs": [],
   "source": [
    "df_content = pd.read_csv(log_results_content_file)"
   ]
  },
  {
   "cell_type": "code",
   "execution_count": 35,
   "id": "38c83d05-4e7f-4f90-9b3e-636f163d7a85",
   "metadata": {},
   "outputs": [],
   "source": [
    "merged_df = pd.merge(df, df_content[[\"BlockId\", \"ContentSequence\"]], on=\"BlockId\", how=\"inner\")\n",
    "merged_df = merged_df[[\"BlockId\", \"EventSequence\", \"ContentSequence\", \"Label\"]]"
   ]
  },
  {
   "cell_type": "code",
   "execution_count": 36,
   "id": "6c3462ac-d6d7-4c18-905e-eb2660c3e8db",
   "metadata": {},
   "outputs": [
    {
     "data": {
      "text/html": [
       "<div>\n",
       "<style scoped>\n",
       "    .dataframe tbody tr th:only-of-type {\n",
       "        vertical-align: middle;\n",
       "    }\n",
       "\n",
       "    .dataframe tbody tr th {\n",
       "        vertical-align: top;\n",
       "    }\n",
       "\n",
       "    .dataframe thead th {\n",
       "        text-align: right;\n",
       "    }\n",
       "</style>\n",
       "<table border=\"1\" class=\"dataframe\">\n",
       "  <thead>\n",
       "    <tr style=\"text-align: right;\">\n",
       "      <th></th>\n",
       "      <th>BlockId</th>\n",
       "      <th>EventSequence</th>\n",
       "      <th>ContentSequence</th>\n",
       "      <th>Label</th>\n",
       "    </tr>\n",
       "  </thead>\n",
       "  <tbody>\n",
       "    <tr>\n",
       "      <th>0</th>\n",
       "      <td>blk_-1608999687919862906</td>\n",
       "      <td>['9b7aa7a3', '81358cb3', '9b7aa7a3', '9b7aa7a3...</td>\n",
       "      <td>['Receiving block blk_&lt;*&gt; src: &lt;*&gt; dest: /&lt;*&gt;:...</td>\n",
       "      <td>0</td>\n",
       "    </tr>\n",
       "    <tr>\n",
       "      <th>1</th>\n",
       "      <td>blk_7503483334202473044</td>\n",
       "      <td>['9b7aa7a3', '9b7aa7a3', '81358cb3', '9b7aa7a3...</td>\n",
       "      <td>['Receiving block blk_&lt;*&gt; src: &lt;*&gt; dest: /&lt;*&gt;:...</td>\n",
       "      <td>0</td>\n",
       "    </tr>\n",
       "    <tr>\n",
       "      <th>2</th>\n",
       "      <td>blk_-3544583377289625738</td>\n",
       "      <td>['9b7aa7a3', '81358cb3', '9b7aa7a3', '9b7aa7a3...</td>\n",
       "      <td>['Receiving block blk_&lt;*&gt; src: &lt;*&gt; dest: /&lt;*&gt;:...</td>\n",
       "      <td>1</td>\n",
       "    </tr>\n",
       "    <tr>\n",
       "      <th>3</th>\n",
       "      <td>blk_-9073992586687739851</td>\n",
       "      <td>['9b7aa7a3', '81358cb3', '9b7aa7a3', '9b7aa7a3...</td>\n",
       "      <td>['Receiving block blk_&lt;*&gt; src: &lt;*&gt; dest: /&lt;*&gt;:...</td>\n",
       "      <td>0</td>\n",
       "    </tr>\n",
       "    <tr>\n",
       "      <th>4</th>\n",
       "      <td>blk_7854771516489510256</td>\n",
       "      <td>['9b7aa7a3', '9b7aa7a3', '81358cb3', '9b7aa7a3...</td>\n",
       "      <td>['Receiving block blk_&lt;*&gt; src: &lt;*&gt; dest: /&lt;*&gt;:...</td>\n",
       "      <td>0</td>\n",
       "    </tr>\n",
       "  </tbody>\n",
       "</table>\n",
       "</div>"
      ],
      "text/plain": [
       "                    BlockId  \\\n",
       "0  blk_-1608999687919862906   \n",
       "1   blk_7503483334202473044   \n",
       "2  blk_-3544583377289625738   \n",
       "3  blk_-9073992586687739851   \n",
       "4   blk_7854771516489510256   \n",
       "\n",
       "                                       EventSequence  \\\n",
       "0  ['9b7aa7a3', '81358cb3', '9b7aa7a3', '9b7aa7a3...   \n",
       "1  ['9b7aa7a3', '9b7aa7a3', '81358cb3', '9b7aa7a3...   \n",
       "2  ['9b7aa7a3', '81358cb3', '9b7aa7a3', '9b7aa7a3...   \n",
       "3  ['9b7aa7a3', '81358cb3', '9b7aa7a3', '9b7aa7a3...   \n",
       "4  ['9b7aa7a3', '9b7aa7a3', '81358cb3', '9b7aa7a3...   \n",
       "\n",
       "                                     ContentSequence  Label  \n",
       "0  ['Receiving block blk_<*> src: <*> dest: /<*>:...      0  \n",
       "1  ['Receiving block blk_<*> src: <*> dest: /<*>:...      0  \n",
       "2  ['Receiving block blk_<*> src: <*> dest: /<*>:...      1  \n",
       "3  ['Receiving block blk_<*> src: <*> dest: /<*>:...      0  \n",
       "4  ['Receiving block blk_<*> src: <*> dest: /<*>:...      0  "
      ]
     },
     "execution_count": 36,
     "metadata": {},
     "output_type": "execute_result"
    }
   ],
   "source": [
    "merged_df.head()"
   ]
  },
  {
   "cell_type": "code",
   "execution_count": 38,
   "id": "2fdc6b86-69e7-46fa-a133-a39bef1f180d",
   "metadata": {},
   "outputs": [
    {
     "data": {
      "text/plain": [
       "BlockId            0\n",
       "EventSequence      0\n",
       "ContentSequence    0\n",
       "Label              0\n",
       "dtype: int64"
      ]
     },
     "execution_count": 38,
     "metadata": {},
     "output_type": "execute_result"
    }
   ],
   "source": [
    "merged_df.isnull().sum()"
   ]
  },
  {
   "cell_type": "code",
   "execution_count": 39,
   "id": "25a2f3fb-539d-45a5-805b-09625ee0c9be",
   "metadata": {},
   "outputs": [
    {
     "data": {
      "text/plain": [
       "Label\n",
       "0    558223\n",
       "1     16838\n",
       "Name: count, dtype: int64"
      ]
     },
     "execution_count": 39,
     "metadata": {},
     "output_type": "execute_result"
    }
   ],
   "source": [
    "merged_df[\"Label\"].value_counts()"
   ]
  },
  {
   "cell_type": "code",
   "execution_count": 40,
   "id": "372e3340-8f9d-43a2-ae48-5b6d9c16571a",
   "metadata": {},
   "outputs": [],
   "source": [
    "merged_df.to_csv(logkey_content_file, index=None)"
   ]
  },
  {
   "cell_type": "markdown",
   "id": "f3bfec2c-5823-421a-8063-15abc0ca638a",
   "metadata": {},
   "source": [
    "### - BGL"
   ]
  },
  {
   "cell_type": "code",
   "execution_count": 61,
   "id": "4b46d2d3-5c34-4043-a05d-9b3016ffd0c4",
   "metadata": {},
   "outputs": [],
   "source": [
    "#PATH and VAR\n",
    "data_dir = _path[\"bgl\"]\n",
    "output_dir = _path[\"bgl\"] + \"output/\"\n",
    "log_file = \"BGL.log\"\n",
    "log_structured_file  = output_dir + log_file + \"_structured.csv\"\n",
    "log_results_file = output_dir + \"bgl_time_windowed.csv\"\n",
    "log_results_content_file = output_dir + \"bgl_time_windowed_content.csv\"\n",
    "logkey_content_file = output_dir + \"bgl_content_logkey.csv\"\n",
    "window_size = 5\n",
    "step_size = 1"
   ]
  },
  {
   "cell_type": "code",
   "execution_count": 28,
   "id": "b34fa3d1-7848-4451-917c-0628ad9c5239",
   "metadata": {},
   "outputs": [],
   "source": [
    "def parse_log(input_dir, output_dir, log_file, parser_type):\n",
    "    log_format = '<Label> <Id> <Date> <Code1> <Time> <Code2> <Component1> <Component2> <Level> <Content>'\n",
    "    regex = [\n",
    "        r'(0x)[0-9a-fA-F]+', #hexadecimal\n",
    "        r'\\d+.\\d+.\\d+.\\d+',\n",
    "        # r'/\\w+( )$'\n",
    "        r'\\d+'\n",
    "    ]\n",
    "    keep_para = False\n",
    "    if parser_type == \"drain\":\n",
    "        # the hyper parameter is set according to http://jmzhu.logpai.com/pub/pjhe_icws2017.pdf\n",
    "        st = 0.3  # Similarity threshold\n",
    "        depth = 3  # Depth of all leaf nodes\n",
    "        parser = Drain_bgl.LogParser(log_format, indir=input_dir, outdir=output_dir, depth=depth, st=st, rex=regex, keep_para=keep_para)\n",
    "        parser.parse(log_file)\n",
    "    elif parser_type == \"spell\":\n",
    "        tau = 0.55\n",
    "        parser = Spell.LogParser(indir=data_dir, outdir=output_dir, log_format=log_format, tau=tau, rex=regex, keep_para=keep_para)\n",
    "        parser.parse(log_file)"
   ]
  },
  {
   "cell_type": "code",
   "execution_count": 23,
   "id": "0cab6994-1125-4663-8291-5e71f799bdc3",
   "metadata": {},
   "outputs": [
    {
     "name": "stdout",
     "output_type": "stream",
     "text": [
      "Parsing file: datasets/bgl/BGL.log\n",
      "Total size after encoding is 4713493 4747963\n",
      "Parsing done. [Time taken: 0:36:26.956195]\n"
     ]
    }
   ],
   "source": [
    "parse_log(data_dir, output_dir, log_file, 'drain')"
   ]
  },
  {
   "cell_type": "code",
   "execution_count": 32,
   "id": "e8a4b254-f70b-4f3d-87ed-eae6e72e0be8",
   "metadata": {},
   "outputs": [],
   "source": [
    "df = pd.read_csv(log_structured_file)"
   ]
  },
  {
   "cell_type": "code",
   "execution_count": 33,
   "id": "89280412-42e8-466d-b7fa-94d60c8093cd",
   "metadata": {},
   "outputs": [],
   "source": [
    "df[\"Label\"] = df[\"Label\"].apply(lambda x: int(x != \"-\"))\n",
    "df['datetime'] = pd.to_datetime(df['Time'], format='%Y-%m-%d-%H.%M.%S.%f')\n",
    "df['timestamp'] = df[\"datetime\"].values.astype(np.int64) // 10 ** 9\n",
    "df['deltaT'] = df['datetime'].diff() / np.timedelta64(1, 's')\n",
    "df['deltaT'] = df['deltaT'].fillna(0)"
   ]
  },
  {
   "cell_type": "code",
   "execution_count": 26,
   "id": "142e73dd-a24e-4908-93e8-7be4c07cc5c3",
   "metadata": {},
   "outputs": [
    {
     "name": "stdout",
     "output_type": "stream",
     "text": [
      "there are 37315 instances (sliding windows) in this dataset\n",
      "\n",
      "time elapsed : 30.52s\n"
     ]
    }
   ],
   "source": [
    "start = timer()\n",
    "bgl_df = sliding_window(df[[\"timestamp\", \"Label\", \"EventId\", \"deltaT\"]],\n",
    "                                para={\"window_size\": int(window_size)*60, \"step_size\": int(step_size) * 60}\n",
    "                                )\n",
    "end = timer()\n",
    "print(\"time elapsed : {:.2f}s\".format(end-start)) "
   ]
  },
  {
   "cell_type": "code",
   "execution_count": 45,
   "id": "64e9e90c-dfa7-47b6-a0e9-7c1153b4e555",
   "metadata": {},
   "outputs": [],
   "source": [
    "bgl_df.to_csv(log_results_file, index = None)"
   ]
  },
  {
   "cell_type": "code",
   "execution_count": 35,
   "id": "f0df3509-b65f-4284-b1dd-2a3f6895053e",
   "metadata": {},
   "outputs": [
    {
     "name": "stdout",
     "output_type": "stream",
     "text": [
      "there are 37315 instances (sliding windows) in this dataset\n",
      "\n",
      "time elapsed : 24.23s\n"
     ]
    }
   ],
   "source": [
    "start = timer()\n",
    "bgl_df = sliding_window(df[[\"timestamp\", \"Label\", \"EventTemplate\", \"deltaT\"]],\n",
    "                                para={\"window_size\": int(window_size)*60, \"step_size\": int(step_size) * 60}\n",
    "                                )\n",
    "end = timer()\n",
    "print(\"time elapsed : {:.2f}s\".format(end-start)) "
   ]
  },
  {
   "cell_type": "code",
   "execution_count": 36,
   "id": "1cebfe07-a2ef-4cf1-831a-b88d63e7d9fe",
   "metadata": {},
   "outputs": [],
   "source": [
    "bgl_df.to_csv(log_results_content_file, index = None)"
   ]
  },
  {
   "cell_type": "code",
   "execution_count": 46,
   "id": "e592ba08-715e-40f4-bc1b-5b7714b74e0a",
   "metadata": {},
   "outputs": [
    {
     "data": {
      "text/html": [
       "<div>\n",
       "<style scoped>\n",
       "    .dataframe tbody tr th:only-of-type {\n",
       "        vertical-align: middle;\n",
       "    }\n",
       "\n",
       "    .dataframe tbody tr th {\n",
       "        vertical-align: top;\n",
       "    }\n",
       "\n",
       "    .dataframe thead th {\n",
       "        text-align: right;\n",
       "    }\n",
       "</style>\n",
       "<table border=\"1\" class=\"dataframe\">\n",
       "  <thead>\n",
       "    <tr style=\"text-align: right;\">\n",
       "      <th></th>\n",
       "      <th>timestamp</th>\n",
       "      <th>Label</th>\n",
       "      <th>EventId</th>\n",
       "      <th>deltaT</th>\n",
       "    </tr>\n",
       "  </thead>\n",
       "  <tbody>\n",
       "    <tr>\n",
       "      <th>0</th>\n",
       "      <td>[1135617911 1135617913 1135617915 1135617915 1...</td>\n",
       "      <td>0</td>\n",
       "      <td>['3aa50e45' '3aa50e45' '3aa50e45' '3aa50e45' '...</td>\n",
       "      <td>[0.       1.601077 1.581271 0.577114 2.089764 ...</td>\n",
       "    </tr>\n",
       "    <tr>\n",
       "      <th>1</th>\n",
       "      <td>[1127138101 1127138101 1127138101 1127138101 1...</td>\n",
       "      <td>0</td>\n",
       "      <td>['4983ff07' '4983ff07' '4983ff07' '4983ff07' '...</td>\n",
       "      <td>[0.0000000e+00 1.3094000e-01 7.3317000e-02 1.5...</td>\n",
       "    </tr>\n",
       "    <tr>\n",
       "      <th>2</th>\n",
       "      <td>[1134118610 1134118610 1134118610 1134118610 1...</td>\n",
       "      <td>0</td>\n",
       "      <td>['30b3b946' '8df7ac9e' 'a450c390' 'a450c390' '...</td>\n",
       "      <td>[0.       0.109872 0.024515 0.034294 0.035576 ...</td>\n",
       "    </tr>\n",
       "    <tr>\n",
       "      <th>3</th>\n",
       "      <td>[1136277503 1136277503 1136277503 1136277503 1...</td>\n",
       "      <td>0</td>\n",
       "      <td>['30b3b946' '8df7ac9e' '30b3b946' '8df7ac9e' '...</td>\n",
       "      <td>[0.       0.115572 0.032737 0.016155 0.       ...</td>\n",
       "    </tr>\n",
       "    <tr>\n",
       "      <th>4</th>\n",
       "      <td>[1120820379]</td>\n",
       "      <td>0</td>\n",
       "      <td>['8a1ae52c']</td>\n",
       "      <td>[0.]</td>\n",
       "    </tr>\n",
       "  </tbody>\n",
       "</table>\n",
       "</div>"
      ],
      "text/plain": [
       "                                           timestamp  Label  \\\n",
       "0  [1135617911 1135617913 1135617915 1135617915 1...      0   \n",
       "1  [1127138101 1127138101 1127138101 1127138101 1...      0   \n",
       "2  [1134118610 1134118610 1134118610 1134118610 1...      0   \n",
       "3  [1136277503 1136277503 1136277503 1136277503 1...      0   \n",
       "4                                       [1120820379]      0   \n",
       "\n",
       "                                             EventId  \\\n",
       "0  ['3aa50e45' '3aa50e45' '3aa50e45' '3aa50e45' '...   \n",
       "1  ['4983ff07' '4983ff07' '4983ff07' '4983ff07' '...   \n",
       "2  ['30b3b946' '8df7ac9e' 'a450c390' 'a450c390' '...   \n",
       "3  ['30b3b946' '8df7ac9e' '30b3b946' '8df7ac9e' '...   \n",
       "4                                       ['8a1ae52c']   \n",
       "\n",
       "                                              deltaT  \n",
       "0  [0.       1.601077 1.581271 0.577114 2.089764 ...  \n",
       "1  [0.0000000e+00 1.3094000e-01 7.3317000e-02 1.5...  \n",
       "2  [0.       0.109872 0.024515 0.034294 0.035576 ...  \n",
       "3  [0.       0.115572 0.032737 0.016155 0.       ...  \n",
       "4                                               [0.]  "
      ]
     },
     "execution_count": 46,
     "metadata": {},
     "output_type": "execute_result"
    }
   ],
   "source": [
    "df = pd.read_csv(log_results_file)\n",
    "df.head()"
   ]
  },
  {
   "cell_type": "code",
   "execution_count": 47,
   "id": "09eade0b-f8b8-4431-93fc-920fb08aa294",
   "metadata": {},
   "outputs": [
    {
     "data": {
      "text/plain": [
       "Label\n",
       "0    34297\n",
       "1     3018\n",
       "Name: count, dtype: int64"
      ]
     },
     "execution_count": 47,
     "metadata": {},
     "output_type": "execute_result"
    }
   ],
   "source": [
    "df[\"Label\"].value_counts()"
   ]
  },
  {
   "cell_type": "code",
   "execution_count": 37,
   "id": "90ed792d-95fa-409c-8eab-354b62511a2c",
   "metadata": {},
   "outputs": [
    {
     "data": {
      "text/html": [
       "<div>\n",
       "<style scoped>\n",
       "    .dataframe tbody tr th:only-of-type {\n",
       "        vertical-align: middle;\n",
       "    }\n",
       "\n",
       "    .dataframe tbody tr th {\n",
       "        vertical-align: top;\n",
       "    }\n",
       "\n",
       "    .dataframe thead th {\n",
       "        text-align: right;\n",
       "    }\n",
       "</style>\n",
       "<table border=\"1\" class=\"dataframe\">\n",
       "  <thead>\n",
       "    <tr style=\"text-align: right;\">\n",
       "      <th></th>\n",
       "      <th>timestamp</th>\n",
       "      <th>Label</th>\n",
       "      <th>EventTemplate</th>\n",
       "      <th>deltaT</th>\n",
       "    </tr>\n",
       "  </thead>\n",
       "  <tbody>\n",
       "    <tr>\n",
       "      <th>0</th>\n",
       "      <td>[1135617911 1135617913 1135617915 1135617915 1...</td>\n",
       "      <td>0</td>\n",
       "      <td>['instruction cache parity error corrected'\\n ...</td>\n",
       "      <td>[0.       1.601077 1.581271 0.577114 2.089764 ...</td>\n",
       "    </tr>\n",
       "    <tr>\n",
       "      <th>1</th>\n",
       "      <td>[1127138101 1127138101 1127138101 1127138101 1...</td>\n",
       "      <td>0</td>\n",
       "      <td>['ciod: LOGIN &lt;*&gt; failed: No such file or dire...</td>\n",
       "      <td>[0.0000000e+00 1.3094000e-01 7.3317000e-02 1.5...</td>\n",
       "    </tr>\n",
       "    <tr>\n",
       "      <th>2</th>\n",
       "      <td>[1134118610 1134118610 1134118610 1134118610 1...</td>\n",
       "      <td>0</td>\n",
       "      <td>['&lt;*&gt; ddr error(s) detected and corrected on r...</td>\n",
       "      <td>[0.       0.109872 0.024515 0.034294 0.035576 ...</td>\n",
       "    </tr>\n",
       "    <tr>\n",
       "      <th>3</th>\n",
       "      <td>[1136277503 1136277503 1136277503 1136277503 1...</td>\n",
       "      <td>0</td>\n",
       "      <td>['&lt;*&gt; ddr error(s) detected and corrected on r...</td>\n",
       "      <td>[0.       0.115572 0.032737 0.016155 0.       ...</td>\n",
       "    </tr>\n",
       "    <tr>\n",
       "      <th>4</th>\n",
       "      <td>[1120820379]</td>\n",
       "      <td>0</td>\n",
       "      <td>['&lt;*&gt; Message=Invalid JtagId = ffffffff']</td>\n",
       "      <td>[0.]</td>\n",
       "    </tr>\n",
       "  </tbody>\n",
       "</table>\n",
       "</div>"
      ],
      "text/plain": [
       "                                           timestamp  Label  \\\n",
       "0  [1135617911 1135617913 1135617915 1135617915 1...      0   \n",
       "1  [1127138101 1127138101 1127138101 1127138101 1...      0   \n",
       "2  [1134118610 1134118610 1134118610 1134118610 1...      0   \n",
       "3  [1136277503 1136277503 1136277503 1136277503 1...      0   \n",
       "4                                       [1120820379]      0   \n",
       "\n",
       "                                       EventTemplate  \\\n",
       "0  ['instruction cache parity error corrected'\\n ...   \n",
       "1  ['ciod: LOGIN <*> failed: No such file or dire...   \n",
       "2  ['<*> ddr error(s) detected and corrected on r...   \n",
       "3  ['<*> ddr error(s) detected and corrected on r...   \n",
       "4          ['<*> Message=Invalid JtagId = ffffffff']   \n",
       "\n",
       "                                              deltaT  \n",
       "0  [0.       1.601077 1.581271 0.577114 2.089764 ...  \n",
       "1  [0.0000000e+00 1.3094000e-01 7.3317000e-02 1.5...  \n",
       "2  [0.       0.109872 0.024515 0.034294 0.035576 ...  \n",
       "3  [0.       0.115572 0.032737 0.016155 0.       ...  \n",
       "4                                               [0.]  "
      ]
     },
     "execution_count": 37,
     "metadata": {},
     "output_type": "execute_result"
    }
   ],
   "source": [
    "df = pd.read_csv(log_results_content_file)\n",
    "df.head()"
   ]
  },
  {
   "cell_type": "code",
   "execution_count": 38,
   "id": "5e6b0c00-afca-45d4-846c-d42cf92eb290",
   "metadata": {},
   "outputs": [
    {
     "data": {
      "text/plain": [
       "Label\n",
       "0    34297\n",
       "1     3018\n",
       "Name: count, dtype: int64"
      ]
     },
     "execution_count": 38,
     "metadata": {},
     "output_type": "execute_result"
    }
   ],
   "source": [
    "df[\"Label\"].value_counts()"
   ]
  },
  {
   "cell_type": "code",
   "execution_count": 62,
   "id": "62ab3a77-51cc-4851-a146-6730b5dd6e20",
   "metadata": {},
   "outputs": [],
   "source": [
    "df_logkey = pd.read_csv(log_results_file)\n",
    "df_content = pd.read_csv(log_results_content_file)"
   ]
  },
  {
   "cell_type": "code",
   "execution_count": 63,
   "id": "ffde13cd-0152-49d7-9773-3d85dddc29b5",
   "metadata": {},
   "outputs": [],
   "source": [
    "merged_df = pd.merge(df_logkey, df_content[[\"timestamp\", \"EventTemplate\"]], on=\"timestamp\", how=\"inner\")\n",
    "merged_df = merged_df[[\"timestamp\", \"EventId\", \"EventTemplate\", \"Label\"]]"
   ]
  },
  {
   "cell_type": "code",
   "execution_count": 64,
   "id": "a33cfe1a-d2cf-4049-bd1b-3e7ec7686d9a",
   "metadata": {},
   "outputs": [
    {
     "data": {
      "text/html": [
       "<div>\n",
       "<style scoped>\n",
       "    .dataframe tbody tr th:only-of-type {\n",
       "        vertical-align: middle;\n",
       "    }\n",
       "\n",
       "    .dataframe tbody tr th {\n",
       "        vertical-align: top;\n",
       "    }\n",
       "\n",
       "    .dataframe thead th {\n",
       "        text-align: right;\n",
       "    }\n",
       "</style>\n",
       "<table border=\"1\" class=\"dataframe\">\n",
       "  <thead>\n",
       "    <tr style=\"text-align: right;\">\n",
       "      <th></th>\n",
       "      <th>timestamp</th>\n",
       "      <th>EventId</th>\n",
       "      <th>EventTemplate</th>\n",
       "      <th>Label</th>\n",
       "    </tr>\n",
       "  </thead>\n",
       "  <tbody>\n",
       "    <tr>\n",
       "      <th>0</th>\n",
       "      <td>[1135617911 1135617913 1135617915 1135617915 1...</td>\n",
       "      <td>['3aa50e45' '3aa50e45' '3aa50e45' '3aa50e45' '...</td>\n",
       "      <td>['instruction cache parity error corrected'\\n ...</td>\n",
       "      <td>0</td>\n",
       "    </tr>\n",
       "    <tr>\n",
       "      <th>1</th>\n",
       "      <td>[1127138101 1127138101 1127138101 1127138101 1...</td>\n",
       "      <td>['4983ff07' '4983ff07' '4983ff07' '4983ff07' '...</td>\n",
       "      <td>['ciod: LOGIN &lt;*&gt; failed: No such file or dire...</td>\n",
       "      <td>0</td>\n",
       "    </tr>\n",
       "    <tr>\n",
       "      <th>2</th>\n",
       "      <td>[1134118610 1134118610 1134118610 1134118610 1...</td>\n",
       "      <td>['30b3b946' '8df7ac9e' 'a450c390' 'a450c390' '...</td>\n",
       "      <td>['&lt;*&gt; ddr error(s) detected and corrected on r...</td>\n",
       "      <td>0</td>\n",
       "    </tr>\n",
       "    <tr>\n",
       "      <th>3</th>\n",
       "      <td>[1136277503 1136277503 1136277503 1136277503 1...</td>\n",
       "      <td>['30b3b946' '8df7ac9e' '30b3b946' '8df7ac9e' '...</td>\n",
       "      <td>['&lt;*&gt; ddr error(s) detected and corrected on r...</td>\n",
       "      <td>0</td>\n",
       "    </tr>\n",
       "    <tr>\n",
       "      <th>4</th>\n",
       "      <td>[1120820379]</td>\n",
       "      <td>['8a1ae52c']</td>\n",
       "      <td>['&lt;*&gt; Message=Invalid JtagId = ffffffff']</td>\n",
       "      <td>0</td>\n",
       "    </tr>\n",
       "  </tbody>\n",
       "</table>\n",
       "</div>"
      ],
      "text/plain": [
       "                                           timestamp  \\\n",
       "0  [1135617911 1135617913 1135617915 1135617915 1...   \n",
       "1  [1127138101 1127138101 1127138101 1127138101 1...   \n",
       "2  [1134118610 1134118610 1134118610 1134118610 1...   \n",
       "3  [1136277503 1136277503 1136277503 1136277503 1...   \n",
       "4                                       [1120820379]   \n",
       "\n",
       "                                             EventId  \\\n",
       "0  ['3aa50e45' '3aa50e45' '3aa50e45' '3aa50e45' '...   \n",
       "1  ['4983ff07' '4983ff07' '4983ff07' '4983ff07' '...   \n",
       "2  ['30b3b946' '8df7ac9e' 'a450c390' 'a450c390' '...   \n",
       "3  ['30b3b946' '8df7ac9e' '30b3b946' '8df7ac9e' '...   \n",
       "4                                       ['8a1ae52c']   \n",
       "\n",
       "                                       EventTemplate  Label  \n",
       "0  ['instruction cache parity error corrected'\\n ...      0  \n",
       "1  ['ciod: LOGIN <*> failed: No such file or dire...      0  \n",
       "2  ['<*> ddr error(s) detected and corrected on r...      0  \n",
       "3  ['<*> ddr error(s) detected and corrected on r...      0  \n",
       "4          ['<*> Message=Invalid JtagId = ffffffff']      0  "
      ]
     },
     "execution_count": 64,
     "metadata": {},
     "output_type": "execute_result"
    }
   ],
   "source": [
    "merged_df.head()"
   ]
  },
  {
   "cell_type": "code",
   "execution_count": 65,
   "id": "437dfae2-cf38-4753-b3e8-560ea3fd3432",
   "metadata": {},
   "outputs": [
    {
     "data": {
      "text/plain": [
       "timestamp        0\n",
       "EventId          0\n",
       "EventTemplate    0\n",
       "Label            0\n",
       "dtype: int64"
      ]
     },
     "execution_count": 65,
     "metadata": {},
     "output_type": "execute_result"
    }
   ],
   "source": [
    "merged_df.isnull().sum()"
   ]
  },
  {
   "cell_type": "code",
   "execution_count": 66,
   "id": "da37d469-211d-459d-8f6d-3a61608a8fe6",
   "metadata": {},
   "outputs": [
    {
     "data": {
      "text/plain": [
       "Label\n",
       "0    34297\n",
       "1     3018\n",
       "Name: count, dtype: int64"
      ]
     },
     "execution_count": 66,
     "metadata": {},
     "output_type": "execute_result"
    }
   ],
   "source": [
    "merged_df[\"Label\"].value_counts()"
   ]
  },
  {
   "cell_type": "code",
   "execution_count": 67,
   "id": "c73142bd-6de0-4978-b303-654c1c8c759d",
   "metadata": {},
   "outputs": [
    {
     "name": "stdout",
     "output_type": "stream",
     "text": [
      "Saved at : datasets/bgl/output/bgl_content_logkey.csv\n"
     ]
    }
   ],
   "source": [
    "merged_df.to_csv(logkey_content_file, index=None)\n",
    "print(\"Saved at : \" + logkey_content_file)"
   ]
  },
  {
   "cell_type": "markdown",
   "id": "fabfda7e-3ff3-4a5c-9998-e5be6ed26a84",
   "metadata": {},
   "source": [
    "### - Thunderbird"
   ]
  },
  {
   "cell_type": "code",
   "execution_count": 68,
   "id": "b0b8990f-4fc9-4045-8099-065fb5eb0a34",
   "metadata": {},
   "outputs": [],
   "source": [
    "#PATH and VAR\n",
    "raw_log = _path[\"tbird\"] + \"tbird.log\"\n",
    "sample_log = _path[\"tbird\"] + \"tbird_5M.log\"\n",
    "sample_window_size = 5*10**6\n",
    "sample_step_size = 10**3\n",
    "data_dir = _path[\"tbird\"]\n",
    "output_dir = _path[\"tbird\"] + \"output/\"\n",
    "log_file = \"tbird_5M.log\"\n",
    "window_size = 1\n",
    "step_size = 0.5\n",
    "log_results_file = output_dir + \"tbird_time_windowed_5M.csv\"\n",
    "log_results_content_file = output_dir + \"tbird_time_windowed_5M_content.csv\"\n",
    "logkey_content_file = output_dir + \"tbird_content_logkey.csv\""
   ]
  },
  {
   "cell_type": "code",
   "execution_count": 7,
   "id": "876da5fc-ef6e-45c2-b09d-0cc8072d0df8",
   "metadata": {},
   "outputs": [],
   "source": [
    "def sample_raw_data(data_file, output_file, sample_window_size, sample_step_size):\n",
    "    # sample 1M by sliding window, abnormal rate is over 2%\n",
    "    sample_data = []\n",
    "    labels = []\n",
    "    idx = 0\n",
    "\n",
    "    # spirit dataset can start from the 2Mth line, as there are many abnormal lines gathering in the first 2M\n",
    "    with open(data_file, 'r', errors='ignore') as f:\n",
    "        for line in f:\n",
    "            labels.append(line.split()[0] != '-')\n",
    "            sample_data.append(line)\n",
    "\n",
    "            if len(labels) == sample_window_size:\n",
    "                abnormal_rate = sum(np.array(labels)) / len(labels)\n",
    "                print(f\"{idx + 1} lines, abnormal rate {abnormal_rate}\")\n",
    "                break\n",
    "\n",
    "            idx += 1\n",
    "            if idx % sample_step_size == 0:\n",
    "                print(f\"Process {round(idx/sample_window_size * 100,4)} % raw data\", end='\\r')\n",
    "\n",
    "    with open(output_file, \"w\") as f:\n",
    "        f.writelines(sample_data)\n",
    "\n",
    "    print(\"Sampling done\")"
   ]
  },
  {
   "cell_type": "code",
   "execution_count": 12,
   "id": "295e0adc-9322-4a42-8aaa-69210bddd1cf",
   "metadata": {},
   "outputs": [
    {
     "name": "stdout",
     "output_type": "stream",
     "text": [
      "5000000 lines, abnormal rate 0.0452574\n",
      "Sampling done\n",
      "time elapsed : 18.66s\n"
     ]
    }
   ],
   "source": [
    "start = timer()\n",
    "sample_raw_data(raw_log, sample_log, sample_window_size, sample_step_size)\n",
    "end = timer()\n",
    "print(\"time elapsed : {:.2f}s\".format(end-start))"
   ]
  },
  {
   "cell_type": "code",
   "execution_count": 13,
   "id": "30477501-c2b9-4c30-82a1-f151f69d3c01",
   "metadata": {},
   "outputs": [],
   "source": [
    "def parse_log(input_dir, output_dir, log_file, parser_type):\n",
    "    log_format = '<Label> <Id> <Date> <Admin> <Month> <Day> <Time> <AdminAddr> <Content>'\n",
    "    regex = [\n",
    "        r'(0x)[0-9a-fA-F]+',  # hexadecimal\n",
    "        r'\\d+\\.\\d+\\.\\d+\\.\\d+',\n",
    "        r'(?<=Warning: we failed to resolve data source name )[\\w\\s]+',\n",
    "        r'\\d+'\n",
    "    ]\n",
    "    keep_para = False\n",
    "    if parser_type == \"drain\":\n",
    "        # the hyper parameter is set according to http://jmzhu.logpai.com/pub/pjhe_icws2017.pdf\n",
    "        st = 0.3  # Similarity threshold\n",
    "        depth = 3  # Depth of all leaf nodes\n",
    "\n",
    "        # Drain is modified\n",
    "        parser = Drain.LogParser(log_format,\n",
    "                                 indir=input_dir,\n",
    "                                 outdir=output_dir,\n",
    "                                 depth=depth,\n",
    "                                 st=st,\n",
    "                                 rex=regex,\n",
    "                                 keep_para=keep_para, maxChild=1000)\n",
    "        parser.parse(log_file)\n",
    "\n",
    "    elif parser_type == \"spell\":\n",
    "        tau = 0.35\n",
    "        parser = Spell.LogParser(indir=data_dir,\n",
    "                                 outdir=output_dir,\n",
    "                                 log_format=log_format,\n",
    "                                 tau=tau,\n",
    "                                 rex=regex,\n",
    "                                 keep_para=keep_para)\n",
    "        parser.parse(log_file)"
   ]
  },
  {
   "cell_type": "code",
   "execution_count": 14,
   "id": "6854abad-50cf-4a5d-b53d-713b00b7f1a5",
   "metadata": {},
   "outputs": [
    {
     "name": "stdout",
     "output_type": "stream",
     "text": [
      "Parsing file: datasets/tbird/tbird_5M.log\n",
      "Total size after encoding is 5000000 5000000\n",
      "Parsing done. [Time taken: 0:13:29.444664]\n"
     ]
    }
   ],
   "source": [
    "parse_log(data_dir, output_dir, log_file, \"drain\")"
   ]
  },
  {
   "cell_type": "code",
   "execution_count": 40,
   "id": "5a4b5ce6-a7b9-4108-83c9-54f223a4b7a3",
   "metadata": {},
   "outputs": [],
   "source": [
    "df = pd.read_csv(output_dir + \"tbird_5M.log_structured.csv\")"
   ]
  },
  {
   "cell_type": "code",
   "execution_count": 41,
   "id": "3047852a-6dd9-49f4-9be2-73475a7eaa0f",
   "metadata": {},
   "outputs": [],
   "source": [
    "df[\"Label\"] = df[\"Label\"].apply(lambda x: int(x != \"-\"))\n",
    "df['datetime'] = pd.to_datetime(df[\"Date\"] + \" \" + df['Time'], format='%Y.%m.%d %H:%M:%S')\n",
    "df['timestamp'] = df[\"datetime\"].values.astype(np.int64) // 10 ** 9\n",
    "df['deltaT'] = df['datetime'].diff() / np.timedelta64(1, 's')\n",
    "df['deltaT'] = df['deltaT'].fillna(0)"
   ]
  },
  {
   "cell_type": "code",
   "execution_count": 17,
   "id": "2d961075-93f3-4f27-8d55-43821f1db484",
   "metadata": {},
   "outputs": [
    {
     "name": "stdout",
     "output_type": "stream",
     "text": [
      "there are 24708 instances (sliding windows) in this dataset\n",
      "\n",
      "time elapsed : 23.52s\n"
     ]
    }
   ],
   "source": [
    "start = timer()\n",
    "window_df = sliding_window(df[[\"timestamp\", \"Label\", \"EventId\", \"deltaT\"]], \n",
    "                           para={\"window_size\": float(1)*60, \"step_size\": float(0.5) * 60})\n",
    "end = timer()\n",
    "print(\"time elapsed : {:.2f}s\".format(end-start))"
   ]
  },
  {
   "cell_type": "code",
   "execution_count": 18,
   "id": "fb0ac505-3c6d-4b30-8f8a-0655b875555f",
   "metadata": {},
   "outputs": [],
   "source": [
    "window_df.to_csv(log_results_file, index = None)"
   ]
  },
  {
   "cell_type": "code",
   "execution_count": 42,
   "id": "4b2e4043-3d23-4448-998e-53b0861c87de",
   "metadata": {},
   "outputs": [
    {
     "name": "stdout",
     "output_type": "stream",
     "text": [
      "there are 24708 instances (sliding windows) in this dataset\n",
      "\n",
      "time elapsed : 33.62s\n"
     ]
    }
   ],
   "source": [
    "start = timer()\n",
    "window_df = sliding_window(df[[\"timestamp\", \"Label\", \"EventTemplate\", \"deltaT\"]], \n",
    "                           para={\"window_size\": float(1)*60, \"step_size\": float(0.5) * 60})\n",
    "end = timer()\n",
    "print(\"time elapsed : {:.2f}s\".format(end-start))"
   ]
  },
  {
   "cell_type": "code",
   "execution_count": 43,
   "id": "e43788d7-96ff-40b5-825a-d6742ef0bd87",
   "metadata": {},
   "outputs": [],
   "source": [
    "window_df.to_csv(log_results_content_file, index = None)"
   ]
  },
  {
   "cell_type": "code",
   "execution_count": 19,
   "id": "176853ab-604b-493f-822f-b6fec40cc9fe",
   "metadata": {},
   "outputs": [
    {
     "data": {
      "text/html": [
       "<div>\n",
       "<style scoped>\n",
       "    .dataframe tbody tr th:only-of-type {\n",
       "        vertical-align: middle;\n",
       "    }\n",
       "\n",
       "    .dataframe tbody tr th {\n",
       "        vertical-align: top;\n",
       "    }\n",
       "\n",
       "    .dataframe thead th {\n",
       "        text-align: right;\n",
       "    }\n",
       "</style>\n",
       "<table border=\"1\" class=\"dataframe\">\n",
       "  <thead>\n",
       "    <tr style=\"text-align: right;\">\n",
       "      <th></th>\n",
       "      <th>timestamp</th>\n",
       "      <th>Label</th>\n",
       "      <th>EventId</th>\n",
       "      <th>deltaT</th>\n",
       "    </tr>\n",
       "  </thead>\n",
       "  <tbody>\n",
       "    <tr>\n",
       "      <th>0</th>\n",
       "      <td>[1131813901 1131813901 1131813902 1131813902 1...</td>\n",
       "      <td>0</td>\n",
       "      <td>['e77fd980' 'e77fd980' '5ffb1ca0' 'bcf72cf0' '...</td>\n",
       "      <td>[0. 0. 1. 0. 0. 1. 0. 0. 0. 1. 0. 0. 0. 0. 1. ...</td>\n",
       "    </tr>\n",
       "    <tr>\n",
       "      <th>1</th>\n",
       "      <td>[1131994772 1131994772 1131994772 1131994772 1...</td>\n",
       "      <td>0</td>\n",
       "      <td>['5ffb1ca0' 'bcf72cf0' '5ffb1ca0' 'bcf72cf0' '...</td>\n",
       "      <td>[0. 0. 0. 0. 0. 0. 0. 1. 0. 0. 0. 0. 1. 0. 0. ...</td>\n",
       "    </tr>\n",
       "    <tr>\n",
       "      <th>2</th>\n",
       "      <td>[1131538261 1131538262 1131538262 1131538264 1...</td>\n",
       "      <td>0</td>\n",
       "      <td>['1800ad2a' '7ececea2' '750f8375' 'e77fd980' '...</td>\n",
       "      <td>[0. 1. 0. 2. 1. 2. 0. 1. 4. 0. 1. 0. 0. 1. 1. ...</td>\n",
       "    </tr>\n",
       "    <tr>\n",
       "      <th>3</th>\n",
       "      <td>[1132261351 1132261351 1132261351 1132261351 1...</td>\n",
       "      <td>1</td>\n",
       "      <td>['5e3e6435' 'bcf72cf0' '5ffb1ca0' 'bcf72cf0' '...</td>\n",
       "      <td>[0. 0. 0. 0. 1. 2. 0. 0. 1. 0. 1. 0. 0. 1. 0. ...</td>\n",
       "    </tr>\n",
       "    <tr>\n",
       "      <th>4</th>\n",
       "      <td>[1131919651 1131919651 1131919651 1131919651 1...</td>\n",
       "      <td>1</td>\n",
       "      <td>['9e29cff3' '9e29cff3' '9e29cff3' '13fafa5b' '...</td>\n",
       "      <td>[0. 0. 0. 0. 0. 0. 0. 0. 0. 0. 0. 0. 0. 0. 0. ...</td>\n",
       "    </tr>\n",
       "  </tbody>\n",
       "</table>\n",
       "</div>"
      ],
      "text/plain": [
       "                                           timestamp  Label  \\\n",
       "0  [1131813901 1131813901 1131813902 1131813902 1...      0   \n",
       "1  [1131994772 1131994772 1131994772 1131994772 1...      0   \n",
       "2  [1131538261 1131538262 1131538262 1131538264 1...      0   \n",
       "3  [1132261351 1132261351 1132261351 1132261351 1...      1   \n",
       "4  [1131919651 1131919651 1131919651 1131919651 1...      1   \n",
       "\n",
       "                                             EventId  \\\n",
       "0  ['e77fd980' 'e77fd980' '5ffb1ca0' 'bcf72cf0' '...   \n",
       "1  ['5ffb1ca0' 'bcf72cf0' '5ffb1ca0' 'bcf72cf0' '...   \n",
       "2  ['1800ad2a' '7ececea2' '750f8375' 'e77fd980' '...   \n",
       "3  ['5e3e6435' 'bcf72cf0' '5ffb1ca0' 'bcf72cf0' '...   \n",
       "4  ['9e29cff3' '9e29cff3' '9e29cff3' '13fafa5b' '...   \n",
       "\n",
       "                                              deltaT  \n",
       "0  [0. 0. 1. 0. 0. 1. 0. 0. 0. 1. 0. 0. 0. 0. 1. ...  \n",
       "1  [0. 0. 0. 0. 0. 0. 0. 1. 0. 0. 0. 0. 1. 0. 0. ...  \n",
       "2  [0. 1. 0. 2. 1. 2. 0. 1. 4. 0. 1. 0. 0. 1. 1. ...  \n",
       "3  [0. 0. 0. 0. 1. 2. 0. 0. 1. 0. 1. 0. 0. 1. 0. ...  \n",
       "4  [0. 0. 0. 0. 0. 0. 0. 0. 0. 0. 0. 0. 0. 0. 0. ...  "
      ]
     },
     "execution_count": 19,
     "metadata": {},
     "output_type": "execute_result"
    }
   ],
   "source": [
    "df = pd.read_csv(log_results_file)\n",
    "df.head()"
   ]
  },
  {
   "cell_type": "code",
   "execution_count": 43,
   "id": "cfb53cb4-aca6-465a-b122-40ca9aa18923",
   "metadata": {},
   "outputs": [
    {
     "data": {
      "text/plain": [
       "Label\n",
       "0    5838\n",
       "1     639\n",
       "Name: count, dtype: int64"
      ]
     },
     "execution_count": 43,
     "metadata": {},
     "output_type": "execute_result"
    }
   ],
   "source": [
    "df[\"Label\"].value_counts()"
   ]
  },
  {
   "cell_type": "code",
   "execution_count": 20,
   "id": "fa1a19c2-6bcf-4bee-9b73-ac1447f8b0e6",
   "metadata": {},
   "outputs": [
    {
     "data": {
      "text/plain": [
       "Label\n",
       "1    13007\n",
       "0    11701\n",
       "Name: count, dtype: int64"
      ]
     },
     "execution_count": 20,
     "metadata": {},
     "output_type": "execute_result"
    }
   ],
   "source": [
    "df[\"Label\"].value_counts()"
   ]
  },
  {
   "cell_type": "code",
   "execution_count": 44,
   "id": "5b41777c-08b7-479e-93a5-08db366fe9a7",
   "metadata": {},
   "outputs": [
    {
     "data": {
      "text/html": [
       "<div>\n",
       "<style scoped>\n",
       "    .dataframe tbody tr th:only-of-type {\n",
       "        vertical-align: middle;\n",
       "    }\n",
       "\n",
       "    .dataframe tbody tr th {\n",
       "        vertical-align: top;\n",
       "    }\n",
       "\n",
       "    .dataframe thead th {\n",
       "        text-align: right;\n",
       "    }\n",
       "</style>\n",
       "<table border=\"1\" class=\"dataframe\">\n",
       "  <thead>\n",
       "    <tr style=\"text-align: right;\">\n",
       "      <th></th>\n",
       "      <th>timestamp</th>\n",
       "      <th>Label</th>\n",
       "      <th>EventTemplate</th>\n",
       "      <th>deltaT</th>\n",
       "    </tr>\n",
       "  </thead>\n",
       "  <tbody>\n",
       "    <tr>\n",
       "      <th>0</th>\n",
       "      <td>[1131813901 1131813901 1131813902 1131813902 1...</td>\n",
       "      <td>0</td>\n",
       "      <td>['/apps/x&lt;*&gt;_&lt;*&gt;/system/ganglia-&lt;*&gt;.&lt;*&gt;.&lt;*&gt;/sb...</td>\n",
       "      <td>[0. 0. 1. 0. 0. 1. 0. 0. 0. 1. 0. 0. 0. 0. 1. ...</td>\n",
       "    </tr>\n",
       "    <tr>\n",
       "      <th>1</th>\n",
       "      <td>[1131994772 1131994772 1131994772 1131994772 1...</td>\n",
       "      <td>0</td>\n",
       "      <td>['Server Administrator: Instrumentation Servic...</td>\n",
       "      <td>[0. 0. 0. 0. 0. 0. 0. 1. 0. 0. 0. 0. 1. 0. 0. ...</td>\n",
       "    </tr>\n",
       "    <tr>\n",
       "      <th>2</th>\n",
       "      <td>[1131538261 1131538262 1131538262 1131538264 1...</td>\n",
       "      <td>0</td>\n",
       "      <td>['ntpd[&lt;*&gt;]: synchronized to &lt;*&gt; stratum &lt;*&gt;'\\...</td>\n",
       "      <td>[0. 1. 0. 2. 1. 2. 0. 1. 4. 0. 1. 0. 0. 1. 1. ...</td>\n",
       "    </tr>\n",
       "    <tr>\n",
       "      <th>3</th>\n",
       "      <td>[1132261351 1132261351 1132261351 1132261351 1...</td>\n",
       "      <td>1</td>\n",
       "      <td>['Server Administrator: Instrumentation Servic...</td>\n",
       "      <td>[0. 0. 0. 0. 1. 2. 0. 0. 1. 0. 1. 0. 0. 1. 0. ...</td>\n",
       "    </tr>\n",
       "    <tr>\n",
       "      <th>4</th>\n",
       "      <td>[1131919651 1131919651 1131919651 1131919651 1...</td>\n",
       "      <td>1</td>\n",
       "      <td>['kernel: THH(&lt;*&gt;): &lt;*&gt; &lt;*&gt; Device in FATAL st...</td>\n",
       "      <td>[0. 0. 0. 0. 0. 0. 0. 0. 0. 0. 0. 0. 0. 0. 0. ...</td>\n",
       "    </tr>\n",
       "  </tbody>\n",
       "</table>\n",
       "</div>"
      ],
      "text/plain": [
       "                                           timestamp  Label  \\\n",
       "0  [1131813901 1131813901 1131813902 1131813902 1...      0   \n",
       "1  [1131994772 1131994772 1131994772 1131994772 1...      0   \n",
       "2  [1131538261 1131538262 1131538262 1131538264 1...      0   \n",
       "3  [1132261351 1132261351 1132261351 1132261351 1...      1   \n",
       "4  [1131919651 1131919651 1131919651 1131919651 1...      1   \n",
       "\n",
       "                                       EventTemplate  \\\n",
       "0  ['/apps/x<*>_<*>/system/ganglia-<*>.<*>.<*>/sb...   \n",
       "1  ['Server Administrator: Instrumentation Servic...   \n",
       "2  ['ntpd[<*>]: synchronized to <*> stratum <*>'\\...   \n",
       "3  ['Server Administrator: Instrumentation Servic...   \n",
       "4  ['kernel: THH(<*>): <*> <*> Device in FATAL st...   \n",
       "\n",
       "                                              deltaT  \n",
       "0  [0. 0. 1. 0. 0. 1. 0. 0. 0. 1. 0. 0. 0. 0. 1. ...  \n",
       "1  [0. 0. 0. 0. 0. 0. 0. 1. 0. 0. 0. 0. 1. 0. 0. ...  \n",
       "2  [0. 1. 0. 2. 1. 2. 0. 1. 4. 0. 1. 0. 0. 1. 1. ...  \n",
       "3  [0. 0. 0. 0. 1. 2. 0. 0. 1. 0. 1. 0. 0. 1. 0. ...  \n",
       "4  [0. 0. 0. 0. 0. 0. 0. 0. 0. 0. 0. 0. 0. 0. 0. ...  "
      ]
     },
     "execution_count": 44,
     "metadata": {},
     "output_type": "execute_result"
    }
   ],
   "source": [
    "df = pd.read_csv(log_results_content_file)\n",
    "df.head()"
   ]
  },
  {
   "cell_type": "code",
   "execution_count": 45,
   "id": "a6b5ad3b-606d-4adf-be23-0a28a43374b6",
   "metadata": {},
   "outputs": [
    {
     "data": {
      "text/plain": [
       "Label\n",
       "1    13007\n",
       "0    11701\n",
       "Name: count, dtype: int64"
      ]
     },
     "execution_count": 45,
     "metadata": {},
     "output_type": "execute_result"
    }
   ],
   "source": [
    "df[\"Label\"].value_counts()"
   ]
  },
  {
   "cell_type": "code",
   "execution_count": 69,
   "id": "5fbd868e-3783-43d5-b6b1-dfa71adbc6d2",
   "metadata": {},
   "outputs": [],
   "source": [
    "df_logkey = pd.read_csv(log_results_file)\n",
    "df_content = pd.read_csv(log_results_content_file)"
   ]
  },
  {
   "cell_type": "code",
   "execution_count": 70,
   "id": "4f7e7bac-2441-436a-8170-7db8bbc8b993",
   "metadata": {},
   "outputs": [],
   "source": [
    "merged_df = pd.merge(df_logkey, df_content[[\"timestamp\", \"EventTemplate\"]], on=\"timestamp\", how=\"inner\")\n",
    "merged_df = merged_df[[\"timestamp\", \"EventId\", \"EventTemplate\", \"Label\"]]"
   ]
  },
  {
   "cell_type": "code",
   "execution_count": 72,
   "id": "69952bd3-7f30-4e99-9323-b457044511bc",
   "metadata": {},
   "outputs": [
    {
     "data": {
      "text/html": [
       "<div>\n",
       "<style scoped>\n",
       "    .dataframe tbody tr th:only-of-type {\n",
       "        vertical-align: middle;\n",
       "    }\n",
       "\n",
       "    .dataframe tbody tr th {\n",
       "        vertical-align: top;\n",
       "    }\n",
       "\n",
       "    .dataframe thead th {\n",
       "        text-align: right;\n",
       "    }\n",
       "</style>\n",
       "<table border=\"1\" class=\"dataframe\">\n",
       "  <thead>\n",
       "    <tr style=\"text-align: right;\">\n",
       "      <th></th>\n",
       "      <th>timestamp</th>\n",
       "      <th>EventId</th>\n",
       "      <th>EventTemplate</th>\n",
       "      <th>Label</th>\n",
       "    </tr>\n",
       "  </thead>\n",
       "  <tbody>\n",
       "    <tr>\n",
       "      <th>0</th>\n",
       "      <td>[1131813901 1131813901 1131813902 1131813902 1...</td>\n",
       "      <td>['e77fd980' 'e77fd980' '5ffb1ca0' 'bcf72cf0' '...</td>\n",
       "      <td>['/apps/x&lt;*&gt;_&lt;*&gt;/system/ganglia-&lt;*&gt;.&lt;*&gt;.&lt;*&gt;/sb...</td>\n",
       "      <td>0</td>\n",
       "    </tr>\n",
       "    <tr>\n",
       "      <th>1</th>\n",
       "      <td>[1131994772 1131994772 1131994772 1131994772 1...</td>\n",
       "      <td>['5ffb1ca0' 'bcf72cf0' '5ffb1ca0' 'bcf72cf0' '...</td>\n",
       "      <td>['Server Administrator: Instrumentation Servic...</td>\n",
       "      <td>0</td>\n",
       "    </tr>\n",
       "    <tr>\n",
       "      <th>2</th>\n",
       "      <td>[1131538261 1131538262 1131538262 1131538264 1...</td>\n",
       "      <td>['1800ad2a' '7ececea2' '750f8375' 'e77fd980' '...</td>\n",
       "      <td>['ntpd[&lt;*&gt;]: synchronized to &lt;*&gt; stratum &lt;*&gt;'\\...</td>\n",
       "      <td>0</td>\n",
       "    </tr>\n",
       "    <tr>\n",
       "      <th>3</th>\n",
       "      <td>[1132261351 1132261351 1132261351 1132261351 1...</td>\n",
       "      <td>['5e3e6435' 'bcf72cf0' '5ffb1ca0' 'bcf72cf0' '...</td>\n",
       "      <td>['Server Administrator: Instrumentation Servic...</td>\n",
       "      <td>1</td>\n",
       "    </tr>\n",
       "    <tr>\n",
       "      <th>4</th>\n",
       "      <td>[1131919651 1131919651 1131919651 1131919651 1...</td>\n",
       "      <td>['9e29cff3' '9e29cff3' '9e29cff3' '13fafa5b' '...</td>\n",
       "      <td>['kernel: THH(&lt;*&gt;): &lt;*&gt; &lt;*&gt; Device in FATAL st...</td>\n",
       "      <td>1</td>\n",
       "    </tr>\n",
       "  </tbody>\n",
       "</table>\n",
       "</div>"
      ],
      "text/plain": [
       "                                           timestamp  \\\n",
       "0  [1131813901 1131813901 1131813902 1131813902 1...   \n",
       "1  [1131994772 1131994772 1131994772 1131994772 1...   \n",
       "2  [1131538261 1131538262 1131538262 1131538264 1...   \n",
       "3  [1132261351 1132261351 1132261351 1132261351 1...   \n",
       "4  [1131919651 1131919651 1131919651 1131919651 1...   \n",
       "\n",
       "                                             EventId  \\\n",
       "0  ['e77fd980' 'e77fd980' '5ffb1ca0' 'bcf72cf0' '...   \n",
       "1  ['5ffb1ca0' 'bcf72cf0' '5ffb1ca0' 'bcf72cf0' '...   \n",
       "2  ['1800ad2a' '7ececea2' '750f8375' 'e77fd980' '...   \n",
       "3  ['5e3e6435' 'bcf72cf0' '5ffb1ca0' 'bcf72cf0' '...   \n",
       "4  ['9e29cff3' '9e29cff3' '9e29cff3' '13fafa5b' '...   \n",
       "\n",
       "                                       EventTemplate  Label  \n",
       "0  ['/apps/x<*>_<*>/system/ganglia-<*>.<*>.<*>/sb...      0  \n",
       "1  ['Server Administrator: Instrumentation Servic...      0  \n",
       "2  ['ntpd[<*>]: synchronized to <*> stratum <*>'\\...      0  \n",
       "3  ['Server Administrator: Instrumentation Servic...      1  \n",
       "4  ['kernel: THH(<*>): <*> <*> Device in FATAL st...      1  "
      ]
     },
     "execution_count": 72,
     "metadata": {},
     "output_type": "execute_result"
    }
   ],
   "source": [
    "merged_df.head()"
   ]
  },
  {
   "cell_type": "code",
   "execution_count": 73,
   "id": "3f12e350-5216-4008-8f68-cd18342855cf",
   "metadata": {},
   "outputs": [
    {
     "data": {
      "text/plain": [
       "timestamp        0\n",
       "EventId          0\n",
       "EventTemplate    0\n",
       "Label            0\n",
       "dtype: int64"
      ]
     },
     "execution_count": 73,
     "metadata": {},
     "output_type": "execute_result"
    }
   ],
   "source": [
    "merged_df.isnull().sum()"
   ]
  },
  {
   "cell_type": "code",
   "execution_count": 75,
   "id": "1dd3fd9a-4d43-46fd-b37a-5cfa54142a0a",
   "metadata": {},
   "outputs": [
    {
     "data": {
      "text/plain": [
       "Label\n",
       "1    13007\n",
       "0    11701\n",
       "Name: count, dtype: int64"
      ]
     },
     "execution_count": 75,
     "metadata": {},
     "output_type": "execute_result"
    }
   ],
   "source": [
    "merged_df[\"Label\"].value_counts()"
   ]
  },
  {
   "cell_type": "code",
   "execution_count": 76,
   "id": "dc9dd4c2-4020-4c3c-9bcb-af943f450004",
   "metadata": {},
   "outputs": [
    {
     "name": "stdout",
     "output_type": "stream",
     "text": [
      "Saved at : datasets/tbird/output/tbird_content_logkey.csv\n"
     ]
    }
   ],
   "source": [
    "merged_df.to_csv(logkey_content_file, index=None)\n",
    "print(\"Saved at : \" + logkey_content_file)"
   ]
  },
  {
   "cell_type": "markdown",
   "id": "f72d1ceb-567e-4e13-a7b5-0270a88654a3",
   "metadata": {
    "jp-MarkdownHeadingCollapsed": true
   },
   "source": [
    "### SANDBOX"
   ]
  },
  {
   "cell_type": "code",
   "execution_count": 42,
   "id": "3d7bf6b1-7374-4210-ae68-ada54fcfde2e",
   "metadata": {},
   "outputs": [],
   "source": [
    "df = pd.read_csv(log_results_file)"
   ]
  },
  {
   "cell_type": "code",
   "execution_count": 43,
   "id": "ec57b594-caa2-48b6-907a-f179f1b3388e",
   "metadata": {},
   "outputs": [
    {
     "data": {
      "text/html": [
       "<div>\n",
       "<style scoped>\n",
       "    .dataframe tbody tr th:only-of-type {\n",
       "        vertical-align: middle;\n",
       "    }\n",
       "\n",
       "    .dataframe tbody tr th {\n",
       "        vertical-align: top;\n",
       "    }\n",
       "\n",
       "    .dataframe thead th {\n",
       "        text-align: right;\n",
       "    }\n",
       "</style>\n",
       "<table border=\"1\" class=\"dataframe\">\n",
       "  <thead>\n",
       "    <tr style=\"text-align: right;\">\n",
       "      <th></th>\n",
       "      <th>timestamp</th>\n",
       "      <th>Label</th>\n",
       "      <th>EventId</th>\n",
       "      <th>deltaT</th>\n",
       "    </tr>\n",
       "  </thead>\n",
       "  <tbody>\n",
       "    <tr>\n",
       "      <th>0</th>\n",
       "      <td>[1135617911 1135617913 1135617915 1135617915 1...</td>\n",
       "      <td>0</td>\n",
       "      <td>['3aa50e45' '3aa50e45' '3aa50e45' '3aa50e45' '...</td>\n",
       "      <td>[0.       1.601077 1.581271 0.577114 2.089764 ...</td>\n",
       "    </tr>\n",
       "    <tr>\n",
       "      <th>1</th>\n",
       "      <td>[1127138101 1127138101 1127138101 1127138101 1...</td>\n",
       "      <td>0</td>\n",
       "      <td>['4983ff07' '4983ff07' '4983ff07' '4983ff07' '...</td>\n",
       "      <td>[0.0000000e+00 1.3094000e-01 7.3317000e-02 1.5...</td>\n",
       "    </tr>\n",
       "    <tr>\n",
       "      <th>2</th>\n",
       "      <td>[1134118610 1134118610 1134118610 1134118610 1...</td>\n",
       "      <td>0</td>\n",
       "      <td>['30b3b946' '8df7ac9e' 'a450c390' 'a450c390' '...</td>\n",
       "      <td>[0.       0.109872 0.024515 0.034294 0.035576 ...</td>\n",
       "    </tr>\n",
       "    <tr>\n",
       "      <th>3</th>\n",
       "      <td>[1136277503 1136277503 1136277503 1136277503 1...</td>\n",
       "      <td>0</td>\n",
       "      <td>['30b3b946' '8df7ac9e' '30b3b946' '8df7ac9e' '...</td>\n",
       "      <td>[0.       0.115572 0.032737 0.016155 0.       ...</td>\n",
       "    </tr>\n",
       "    <tr>\n",
       "      <th>4</th>\n",
       "      <td>[1120820379]</td>\n",
       "      <td>0</td>\n",
       "      <td>['8a1ae52c']</td>\n",
       "      <td>[0.]</td>\n",
       "    </tr>\n",
       "  </tbody>\n",
       "</table>\n",
       "</div>"
      ],
      "text/plain": [
       "                                           timestamp  Label  \\\n",
       "0  [1135617911 1135617913 1135617915 1135617915 1...      0   \n",
       "1  [1127138101 1127138101 1127138101 1127138101 1...      0   \n",
       "2  [1134118610 1134118610 1134118610 1134118610 1...      0   \n",
       "3  [1136277503 1136277503 1136277503 1136277503 1...      0   \n",
       "4                                       [1120820379]      0   \n",
       "\n",
       "                                             EventId  \\\n",
       "0  ['3aa50e45' '3aa50e45' '3aa50e45' '3aa50e45' '...   \n",
       "1  ['4983ff07' '4983ff07' '4983ff07' '4983ff07' '...   \n",
       "2  ['30b3b946' '8df7ac9e' 'a450c390' 'a450c390' '...   \n",
       "3  ['30b3b946' '8df7ac9e' '30b3b946' '8df7ac9e' '...   \n",
       "4                                       ['8a1ae52c']   \n",
       "\n",
       "                                              deltaT  \n",
       "0  [0.       1.601077 1.581271 0.577114 2.089764 ...  \n",
       "1  [0.0000000e+00 1.3094000e-01 7.3317000e-02 1.5...  \n",
       "2  [0.       0.109872 0.024515 0.034294 0.035576 ...  \n",
       "3  [0.       0.115572 0.032737 0.016155 0.       ...  \n",
       "4                                               [0.]  "
      ]
     },
     "execution_count": 43,
     "metadata": {},
     "output_type": "execute_result"
    }
   ],
   "source": [
    "df.head()"
   ]
  },
  {
   "cell_type": "code",
   "execution_count": 44,
   "id": "6cb9dab7-f1ef-4eb2-a140-af7f2f230f26",
   "metadata": {},
   "outputs": [],
   "source": [
    "df_content = pd.read_csv(log_results_content_file)"
   ]
  },
  {
   "cell_type": "code",
   "execution_count": 45,
   "id": "aaf5b8bc-734f-47ee-8ff0-82fcc584fe36",
   "metadata": {},
   "outputs": [
    {
     "data": {
      "text/html": [
       "<div>\n",
       "<style scoped>\n",
       "    .dataframe tbody tr th:only-of-type {\n",
       "        vertical-align: middle;\n",
       "    }\n",
       "\n",
       "    .dataframe tbody tr th {\n",
       "        vertical-align: top;\n",
       "    }\n",
       "\n",
       "    .dataframe thead th {\n",
       "        text-align: right;\n",
       "    }\n",
       "</style>\n",
       "<table border=\"1\" class=\"dataframe\">\n",
       "  <thead>\n",
       "    <tr style=\"text-align: right;\">\n",
       "      <th></th>\n",
       "      <th>timestamp</th>\n",
       "      <th>Label</th>\n",
       "      <th>EventTemplate</th>\n",
       "      <th>deltaT</th>\n",
       "    </tr>\n",
       "  </thead>\n",
       "  <tbody>\n",
       "    <tr>\n",
       "      <th>0</th>\n",
       "      <td>[1135617911 1135617913 1135617915 1135617915 1...</td>\n",
       "      <td>0</td>\n",
       "      <td>['instruction cache parity error corrected'\\n ...</td>\n",
       "      <td>[0.       1.601077 1.581271 0.577114 2.089764 ...</td>\n",
       "    </tr>\n",
       "    <tr>\n",
       "      <th>1</th>\n",
       "      <td>[1127138101 1127138101 1127138101 1127138101 1...</td>\n",
       "      <td>0</td>\n",
       "      <td>['ciod: LOGIN &lt;*&gt; failed: No such file or dire...</td>\n",
       "      <td>[0.0000000e+00 1.3094000e-01 7.3317000e-02 1.5...</td>\n",
       "    </tr>\n",
       "    <tr>\n",
       "      <th>2</th>\n",
       "      <td>[1134118610 1134118610 1134118610 1134118610 1...</td>\n",
       "      <td>0</td>\n",
       "      <td>['&lt;*&gt; ddr error(s) detected and corrected on r...</td>\n",
       "      <td>[0.       0.109872 0.024515 0.034294 0.035576 ...</td>\n",
       "    </tr>\n",
       "    <tr>\n",
       "      <th>3</th>\n",
       "      <td>[1136277503 1136277503 1136277503 1136277503 1...</td>\n",
       "      <td>0</td>\n",
       "      <td>['&lt;*&gt; ddr error(s) detected and corrected on r...</td>\n",
       "      <td>[0.       0.115572 0.032737 0.016155 0.       ...</td>\n",
       "    </tr>\n",
       "    <tr>\n",
       "      <th>4</th>\n",
       "      <td>[1120820379]</td>\n",
       "      <td>0</td>\n",
       "      <td>['&lt;*&gt; Message=Invalid JtagId = ffffffff']</td>\n",
       "      <td>[0.]</td>\n",
       "    </tr>\n",
       "  </tbody>\n",
       "</table>\n",
       "</div>"
      ],
      "text/plain": [
       "                                           timestamp  Label  \\\n",
       "0  [1135617911 1135617913 1135617915 1135617915 1...      0   \n",
       "1  [1127138101 1127138101 1127138101 1127138101 1...      0   \n",
       "2  [1134118610 1134118610 1134118610 1134118610 1...      0   \n",
       "3  [1136277503 1136277503 1136277503 1136277503 1...      0   \n",
       "4                                       [1120820379]      0   \n",
       "\n",
       "                                       EventTemplate  \\\n",
       "0  ['instruction cache parity error corrected'\\n ...   \n",
       "1  ['ciod: LOGIN <*> failed: No such file or dire...   \n",
       "2  ['<*> ddr error(s) detected and corrected on r...   \n",
       "3  ['<*> ddr error(s) detected and corrected on r...   \n",
       "4          ['<*> Message=Invalid JtagId = ffffffff']   \n",
       "\n",
       "                                              deltaT  \n",
       "0  [0.       1.601077 1.581271 0.577114 2.089764 ...  \n",
       "1  [0.0000000e+00 1.3094000e-01 7.3317000e-02 1.5...  \n",
       "2  [0.       0.109872 0.024515 0.034294 0.035576 ...  \n",
       "3  [0.       0.115572 0.032737 0.016155 0.       ...  \n",
       "4                                               [0.]  "
      ]
     },
     "execution_count": 45,
     "metadata": {},
     "output_type": "execute_result"
    }
   ],
   "source": [
    "df_content.head()"
   ]
  },
  {
   "cell_type": "code",
   "execution_count": 46,
   "id": "952a94ad-b064-446e-b08c-b8ce04f18a7d",
   "metadata": {},
   "outputs": [],
   "source": [
    "merged_df = pd.merge(df, df_content[[\"timestamp\", \"EventTemplate\"]], on=\"timestamp\", how=\"inner\")\n",
    "merged_df = merged_df[[\"timestamp\", \"EventId\", \"EventTemplate\", \"Label\"]]"
   ]
  },
  {
   "cell_type": "code",
   "execution_count": 47,
   "id": "f7184a3b-726e-499e-b12b-8e6cfc60b752",
   "metadata": {},
   "outputs": [
    {
     "data": {
      "text/html": [
       "<div>\n",
       "<style scoped>\n",
       "    .dataframe tbody tr th:only-of-type {\n",
       "        vertical-align: middle;\n",
       "    }\n",
       "\n",
       "    .dataframe tbody tr th {\n",
       "        vertical-align: top;\n",
       "    }\n",
       "\n",
       "    .dataframe thead th {\n",
       "        text-align: right;\n",
       "    }\n",
       "</style>\n",
       "<table border=\"1\" class=\"dataframe\">\n",
       "  <thead>\n",
       "    <tr style=\"text-align: right;\">\n",
       "      <th></th>\n",
       "      <th>timestamp</th>\n",
       "      <th>EventId</th>\n",
       "      <th>EventTemplate</th>\n",
       "      <th>Label</th>\n",
       "    </tr>\n",
       "  </thead>\n",
       "  <tbody>\n",
       "    <tr>\n",
       "      <th>0</th>\n",
       "      <td>[1135617911 1135617913 1135617915 1135617915 1...</td>\n",
       "      <td>['3aa50e45' '3aa50e45' '3aa50e45' '3aa50e45' '...</td>\n",
       "      <td>['instruction cache parity error corrected'\\n ...</td>\n",
       "      <td>0</td>\n",
       "    </tr>\n",
       "    <tr>\n",
       "      <th>1</th>\n",
       "      <td>[1127138101 1127138101 1127138101 1127138101 1...</td>\n",
       "      <td>['4983ff07' '4983ff07' '4983ff07' '4983ff07' '...</td>\n",
       "      <td>['ciod: LOGIN &lt;*&gt; failed: No such file or dire...</td>\n",
       "      <td>0</td>\n",
       "    </tr>\n",
       "    <tr>\n",
       "      <th>2</th>\n",
       "      <td>[1134118610 1134118610 1134118610 1134118610 1...</td>\n",
       "      <td>['30b3b946' '8df7ac9e' 'a450c390' 'a450c390' '...</td>\n",
       "      <td>['&lt;*&gt; ddr error(s) detected and corrected on r...</td>\n",
       "      <td>0</td>\n",
       "    </tr>\n",
       "    <tr>\n",
       "      <th>3</th>\n",
       "      <td>[1136277503 1136277503 1136277503 1136277503 1...</td>\n",
       "      <td>['30b3b946' '8df7ac9e' '30b3b946' '8df7ac9e' '...</td>\n",
       "      <td>['&lt;*&gt; ddr error(s) detected and corrected on r...</td>\n",
       "      <td>0</td>\n",
       "    </tr>\n",
       "    <tr>\n",
       "      <th>4</th>\n",
       "      <td>[1120820379]</td>\n",
       "      <td>['8a1ae52c']</td>\n",
       "      <td>['&lt;*&gt; Message=Invalid JtagId = ffffffff']</td>\n",
       "      <td>0</td>\n",
       "    </tr>\n",
       "  </tbody>\n",
       "</table>\n",
       "</div>"
      ],
      "text/plain": [
       "                                           timestamp  \\\n",
       "0  [1135617911 1135617913 1135617915 1135617915 1...   \n",
       "1  [1127138101 1127138101 1127138101 1127138101 1...   \n",
       "2  [1134118610 1134118610 1134118610 1134118610 1...   \n",
       "3  [1136277503 1136277503 1136277503 1136277503 1...   \n",
       "4                                       [1120820379]   \n",
       "\n",
       "                                             EventId  \\\n",
       "0  ['3aa50e45' '3aa50e45' '3aa50e45' '3aa50e45' '...   \n",
       "1  ['4983ff07' '4983ff07' '4983ff07' '4983ff07' '...   \n",
       "2  ['30b3b946' '8df7ac9e' 'a450c390' 'a450c390' '...   \n",
       "3  ['30b3b946' '8df7ac9e' '30b3b946' '8df7ac9e' '...   \n",
       "4                                       ['8a1ae52c']   \n",
       "\n",
       "                                       EventTemplate  Label  \n",
       "0  ['instruction cache parity error corrected'\\n ...      0  \n",
       "1  ['ciod: LOGIN <*> failed: No such file or dire...      0  \n",
       "2  ['<*> ddr error(s) detected and corrected on r...      0  \n",
       "3  ['<*> ddr error(s) detected and corrected on r...      0  \n",
       "4          ['<*> Message=Invalid JtagId = ffffffff']      0  "
      ]
     },
     "execution_count": 47,
     "metadata": {},
     "output_type": "execute_result"
    }
   ],
   "source": [
    "merged_df.head()"
   ]
  },
  {
   "cell_type": "code",
   "execution_count": 32,
   "id": "5d44b2ef-dbfb-4a8f-a4c9-dac07fa67d58",
   "metadata": {},
   "outputs": [
    {
     "data": {
      "text/plain": [
       "BlockId            0\n",
       "EventSequence      0\n",
       "ContentSequence    0\n",
       "Label              0\n",
       "dtype: int64"
      ]
     },
     "execution_count": 32,
     "metadata": {},
     "output_type": "execute_result"
    }
   ],
   "source": [
    "merged_df.isnull().sum()"
   ]
  },
  {
   "cell_type": "code",
   "execution_count": null,
   "id": "587f8d29-a40d-46fe-b7dd-29eeaa658144",
   "metadata": {},
   "outputs": [],
   "source": []
  }
 ],
 "metadata": {
  "kernelspec": {
   "display_name": "Python 3 (ipykernel)",
   "language": "python",
   "name": "python3"
  },
  "language_info": {
   "codemirror_mode": {
    "name": "ipython",
    "version": 3
   },
   "file_extension": ".py",
   "mimetype": "text/x-python",
   "name": "python",
   "nbconvert_exporter": "python",
   "pygments_lexer": "ipython3",
   "version": "3.11.9"
  }
 },
 "nbformat": 4,
 "nbformat_minor": 5
}
